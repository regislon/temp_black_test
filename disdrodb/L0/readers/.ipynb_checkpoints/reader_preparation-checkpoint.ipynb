{
 "cells": [
  {
   "cell_type": "markdown",
   "id": "981e381f",
   "metadata": {},
   "source": [
    "# Reader preparation : Data exploration tool for reader creation "
   ]
  },
  {
   "cell_type": "markdown",
   "id": "5b5c631b",
   "metadata": {},
   "source": [
    "This notebook aims to guide you through creating a reader. It will provide you with functions that will display or check the way you import your datasets. In this notebook, you will get all the parameters/elements to define an new reader - pieces of code which eventually should be consolidated in `parser_template.py`\n",
    "\n",
    "This notebook uses a lightweight dataset as a sample. You may use it (make a copy) for exploring your own dataset, when preparing a new reader. \n",
    "\n",
    "\n",
    "Following the documentation to [Add a new reader], we'll follow 3 steps : (https://disdrodb.readthedocs.io/en/latest/readers.html#adding-a-new-reader).\n",
    "\n",
    "* Step 1 : Data, where we introduce the sample data.\n",
    "* Step 2 : where we dig into the data to set up the transformation parameters.\n",
    "* Step 3 : where we create the reader"
   ]
  },
  {
   "cell_type": "markdown",
   "id": "b66a93ee",
   "metadata": {},
   "source": [
    "## Step 1: Data in the right folder structure"
   ]
  },
  {
   "cell_type": "markdown",
   "id": "e68c3082",
   "metadata": {},
   "source": [
    "You will find the sample data in the folder`data` of the GitHub repository. It corresponds to one measurement campaign composed of two stations (`ID_station_1` and `ID_station_2`) during two\n",
    "days.\n",
    "\n",
    "```\n",
    "📁 data/\n",
    "  📁 DISDRODB/\n",
    "  ├── 📁 Raw/\n",
    "      ├── 📁 INSTITUTION\\_or\\_COUNTRY/\n",
    "          ├── 📁 CAMPAIGN/\n",
    "              ├── 📁 data\n",
    "                  ├── 📁 ID\\_station\\_1/\n",
    "                  ├── 📜 file60\\_20180817.dat.gz\n",
    "                  ├── 📜 file60\\_20180818.dat.gz\n",
    "                  ├── 📁 ID\\_station\\_2/\n",
    "                  ├── 📜 file61\\_20180817.dat.gz\n",
    "                  ├── 📜 file61\\_20180818.dat.gz\n",
    "              ├── 📁 info\n",
    "              ├── 📁 issue\n",
    "                  ├── 📜 ID\\_station\\_1.yml\n",
    "                  ├── 📜 ID\\_station\\_2.yml\n",
    "              ├── 📁 metadata\n",
    "                  ├── 📜 ID\\_station\\_1.yml\n",
    "                  ├── 📜 ID\\_station\\_2.yml\n",
    "```\n",
    "\n",
    "This structure fulfills the requirements described in the documentation to [Add a new reader](https://disdrodb.readthedocs.io/en/latest/readers.html#adding-a-new-reader).\n"
   ]
  },
  {
   "cell_type": "markdown",
   "id": "771e4919",
   "metadata": {},
   "source": [
    "## Step 2: Read and analyse the data"
   ]
  },
  {
   "cell_type": "markdown",
   "id": "07b313b9",
   "metadata": {},
   "source": [
    "Once the data folders are correctly set up, we can now start analysing our dataset. \n",
    "\n",
    "The objectives of step 2 is to define the raw reading and writing specifications. At the end, you should be able to generate Apache parquet files from your input raw data.  Step 2 breaks down the script `disdrodb\\L0\\readers\\parser_template.py`"
   ]
  },
  {
   "cell_type": "markdown",
   "id": "1020686f",
   "metadata": {},
   "source": [
    "We load modules and packages. *Nothing must be changed here*. "
   ]
  },
  {
   "cell_type": "code",
   "execution_count": 2,
   "id": "e8f0b9dc",
   "metadata": {},
   "outputs": [],
   "source": [
    "import os\n",
    "import sys\n",
    "import logging\n",
    "import pandas as pd\n",
    "\n",
    "# Add project root folder into sys path\n",
    "root_path = os.path.dirname(os.path.dirname(os.path.dirname(os.getcwd())))\n",
    "sys.path.insert(0,root_path)\n",
    "\n",
    "\n",
    "# Directory\n",
    "from disdrodb.L0.io import (\n",
    "    check_directories,\n",
    "    get_campaign_name,\n",
    "    create_directory_structure,\n",
    ")\n",
    "\n",
    "\n",
    "# Tools to develop the parser\n",
    "from disdrodb.L0.template_tools import (\n",
    "    check_column_names,\n",
    "    infer_df_str_column_names,\n",
    "    print_df_first_n_rows,\n",
    "    print_df_random_n_rows,\n",
    "    print_df_column_names,\n",
    "    print_valid_L0_column_names,\n",
    "    get_df_columns_unique_values_dict,\n",
    "    print_df_columns_unique_values,\n",
    "    print_df_summary_stats,\n",
    ")\n",
    "\n",
    "# L0A processing\n",
    "from disdrodb.L0.L0A_processing import (\n",
    "    read_raw_data,\n",
    "    get_file_list,\n",
    "    read_L0A_raw_file_list,\n",
    "    cast_column_dtypes,\n",
    "    write_df_to_parquet,  # TODO: add code to write to parquet a single file in 8.3 ... to check it works\n",
    ")\n",
    "\n",
    "# Metadata\n",
    "from disdrodb.L0.metadata import read_metadata\n",
    "\n",
    "# Standards\n",
    "from disdrodb.L0.check_standards import check_sensor_name, check_L0A_column_names\n",
    "\n",
    "# Logger\n",
    "from disdrodb.utils.logger import create_logger\n",
    "\n"
   ]
  },
  {
   "cell_type": "markdown",
   "id": "29dbf33f",
   "metadata": {},
   "source": [
    "**1. Define paths and running parameters**\n",
    "\n",
    "In the following section, define the raw and processed folder paths. *This may be changed if you are using another folder*\n"
   ]
  },
  {
   "cell_type": "code",
   "execution_count": 3,
   "id": "8f6583a0",
   "metadata": {},
   "outputs": [],
   "source": [
    "raw_dir = os.path.join(root_path,\"data\",\"DISDRODB\",\"Raw\",\"INSTITUTION_or_COUNTRY\",\"CAMPAIGN\")  # Must end with campaign_name upper case\n",
    "processed_dir = os.path.join(root_path,\"data\",\"DISDRODB\",\"Processed\",\"INSTITUTION_or_COUNTRY\",\"CAMPAIGN\") # Must end with campaign_name upper case\n",
    "\n",
    "assert os.path.exists(raw_dir), \"Raw directory does not exist\"\n"
   ]
  },
  {
   "cell_type": "markdown",
   "id": "e016cdce",
   "metadata": {},
   "source": [
    "Then we define running parameters. When the new reader will be created, these parameters will be defined within the command. Please have a look [at the documentation](https://disdrodb.readthedocs.io/en/latest/readers.html#runing-a-reader) to get a full description. "
   ]
  },
  {
   "cell_type": "code",
   "execution_count": 4,
   "id": "8b0978df",
   "metadata": {},
   "outputs": [],
   "source": [
    "force = True\n",
    "lazy = True\n",
    "verbose = True\n",
    "debugging_mode = True\n",
    "sensor_name = \"Parsivel\""
   ]
  },
  {
   "cell_type": "markdown",
   "id": "82423d99",
   "metadata": {},
   "source": [
    "**2. Initialization**\n",
    "\n",
    "We initiate some checks, and get some variable. *Nothing must be changed here.*"
   ]
  },
  {
   "cell_type": "code",
   "execution_count": 7,
   "id": "f8e2559d",
   "metadata": {},
   "outputs": [],
   "source": [
    "# Initial directory checks\n",
    "raw_dir, processed_dir = check_directories(raw_dir, processed_dir, force=False)\n",
    "\n",
    "\n",
    "# Retrieve campaign name\n",
    "campaign_name = get_campaign_name(raw_dir)\n",
    "\n",
    "# -------------------------------------------------------------------------.\n",
    "# Define logging settings\n",
    "create_logger(processed_dir, \"parser_\" + campaign_name)\n",
    "\n",
    "# Retrieve logger\n",
    "logger = logging.getLogger(campaign_name)\n",
    "logger.info(\"### Script start ###\")\n",
    "\n",
    "# -------------------------------------------------------------------------.\n",
    "# Create directory structure\n",
    "create_directory_structure(raw_dir, processed_dir)\n",
    "\n",
    "# -------------------------------------------------------------------------.\n",
    "# List stations\n",
    "list_stations_id = os.listdir(os.path.join(raw_dir, \"data\"))"
   ]
  },
  {
   "cell_type": "markdown",
   "id": "e294cb54",
   "metadata": {},
   "source": [
    "**3. Selection of the station**\n",
    "\n",
    "By default, only one station is read. *Feel free to change the station id (in the current example, we have only two stations. Therefore you can choose between 0 and 1)*"
   ]
  },
  {
   "cell_type": "code",
   "execution_count": 8,
   "id": "e6406f96",
   "metadata": {},
   "outputs": [],
   "source": [
    "station_id = list_stations_id[0]"
   ]
  },
  {
   "cell_type": "markdown",
   "id": "7b98d51a",
   "metadata": {},
   "source": [
    "**4. Get the list of file to process**\n",
    "\n",
    "We now list all files that are in selected station."
   ]
  },
  {
   "cell_type": "code",
   "execution_count": 9,
   "id": "a6fc1423",
   "metadata": {},
   "outputs": [
    {
     "name": "stdout",
     "output_type": "stream",
     "text": [
      " - 2 files to process in /Users/charlotteweil1/ENAC/ENAC-IT4R/disdrodb/data/DISDRODB/Raw/INSTITUTION_or_COUNTRY/CAMPAIGN\n",
      "['/Users/charlotteweil1/ENAC/ENAC-IT4R/disdrodb/data/DISDRODB/Raw/INSTITUTION_or_COUNTRY/CAMPAIGN/data/ID_station_1/file60_20180817.dat.gz', '/Users/charlotteweil1/ENAC/ENAC-IT4R/disdrodb/data/DISDRODB/Raw/INSTITUTION_or_COUNTRY/CAMPAIGN/data/ID_station_1/file60_20180818.dat.gz']\n"
     ]
    }
   ],
   "source": [
    "glob_pattern = os.path.join(\"data\", station_id, \"*.dat*\")\n",
    "\n",
    "file_list = get_file_list(\n",
    "    raw_dir=raw_dir,\n",
    "    glob_pattern=glob_pattern,\n",
    "    verbose=verbose,\n",
    "    debugging_mode=debugging_mode,\n",
    ")\n",
    "\n",
    "print(file_list)"
   ]
  },
  {
   "cell_type": "markdown",
   "id": "01082a90",
   "metadata": {},
   "source": [
    "Note that the  `glob_pattern` variable depends on the file extensions of your dataset. The current dataset contains only \\*.dat file.\n",
    "\n",
    "> 🚨 The `glob_pattern` variable definition will be transferred  to the reader at the end of this notebook. \n"
   ]
  },
  {
   "cell_type": "markdown",
   "id": "e25e3f3a",
   "metadata": {},
   "source": [
    "**5. Retrieve metadata from yml files**\n",
    "\n",
    "We now load the metadata file of the station. "
   ]
  },
  {
   "cell_type": "code",
   "execution_count": 14,
   "id": "e2046cea",
   "metadata": {},
   "outputs": [],
   "source": [
    "# Retrieve metadata\n",
    "attrs = read_metadata(raw_dir=raw_dir,\n",
    "                      station_id=station_id)\n",
    "\n",
    "# Retrieve sensor name\n",
    "sensor_name = attrs[\"sensor_name\"]\n",
    "check_sensor_name(sensor_name)"
   ]
  },
  {
   "cell_type": "markdown",
   "id": "d88535e1",
   "metadata": {},
   "source": [
    "If the name of the station is not correctly defined, an error message is raised. "
   ]
  },
  {
   "cell_type": "markdown",
   "id": "6d1a8dfb",
   "metadata": {},
   "source": [
    "**5. Load the one file into a dataframe**\n",
    "\n",
    "In the  `reader_kwargs` dictionary, you may set [any arguments](https://pandas.pydata.org/docs/reference/api/pandas.read_csv.html) that need to be passed for the reading of the raw data to a dataframe via Pandas."
   ]
  },
  {
   "cell_type": "code",
   "execution_count": 15,
   "id": "116feee9",
   "metadata": {},
   "outputs": [
    {
     "name": "stdout",
     "output_type": "stream",
     "text": [
      "Dataframe for the file file60_20180817.dat.gz :\n"
     ]
    },
    {
     "data": {
      "text/html": [
       "<div>\n",
       "<style scoped>\n",
       "    .dataframe tbody tr th:only-of-type {\n",
       "        vertical-align: middle;\n",
       "    }\n",
       "\n",
       "    .dataframe tbody tr th {\n",
       "        vertical-align: top;\n",
       "    }\n",
       "\n",
       "    .dataframe thead th {\n",
       "        text-align: right;\n",
       "    }\n",
       "</style>\n",
       "<table border=\"1\" class=\"dataframe\">\n",
       "  <thead>\n",
       "    <tr style=\"text-align: right;\">\n",
       "      <th></th>\n",
       "      <th>0</th>\n",
       "      <th>1</th>\n",
       "      <th>2</th>\n",
       "      <th>3</th>\n",
       "      <th>4</th>\n",
       "      <th>5</th>\n",
       "      <th>6</th>\n",
       "      <th>7</th>\n",
       "      <th>8</th>\n",
       "      <th>9</th>\n",
       "      <th>...</th>\n",
       "      <th>14</th>\n",
       "      <th>15</th>\n",
       "      <th>16</th>\n",
       "      <th>17</th>\n",
       "      <th>18</th>\n",
       "      <th>19</th>\n",
       "      <th>20</th>\n",
       "      <th>21</th>\n",
       "      <th>22</th>\n",
       "      <th>23</th>\n",
       "    </tr>\n",
       "  </thead>\n",
       "  <tbody>\n",
       "    <tr>\n",
       "      <th>0</th>\n",
       "      <td>362511</td>\n",
       "      <td>4612.0301</td>\n",
       "      <td>00847.4977</td>\n",
       "      <td>01-08-2018 12:44:30</td>\n",
       "      <td>NaN</td>\n",
       "      <td>OK</td>\n",
       "      <td>0000.000</td>\n",
       "      <td>0056.49</td>\n",
       "      <td>00</td>\n",
       "      <td>00</td>\n",
       "      <td>...</td>\n",
       "      <td>035</td>\n",
       "      <td>0.06</td>\n",
       "      <td>24.9</td>\n",
       "      <td>0</td>\n",
       "      <td>005.649</td>\n",
       "      <td>000</td>\n",
       "      <td>-9.999,-9.999,-9.999,-9.999,-9.999,-9.999,-9.9...</td>\n",
       "      <td>00.000,00.000,00.000,00.000,00.000,00.000,00.0...</td>\n",
       "      <td>000,000,000,000,000,000,000,000,000,000,000,00...</td>\n",
       "      <td>0</td>\n",
       "    </tr>\n",
       "    <tr>\n",
       "      <th>1</th>\n",
       "      <td>362512</td>\n",
       "      <td>4612.0301</td>\n",
       "      <td>00847.4978</td>\n",
       "      <td>01-08-2018 12:45:01</td>\n",
       "      <td>NaN</td>\n",
       "      <td>OK</td>\n",
       "      <td>0000.000</td>\n",
       "      <td>0056.49</td>\n",
       "      <td>00</td>\n",
       "      <td>00</td>\n",
       "      <td>...</td>\n",
       "      <td>035</td>\n",
       "      <td>0.06</td>\n",
       "      <td>24.9</td>\n",
       "      <td>0</td>\n",
       "      <td>005.649</td>\n",
       "      <td>000</td>\n",
       "      <td>-9.999,-9.999,-9.999,-9.999,-9.999,-9.999,-9.9...</td>\n",
       "      <td>00.000,00.000,00.000,00.000,00.000,00.000,00.0...</td>\n",
       "      <td>000,000,000,000,000,000,000,000,000,000,000,00...</td>\n",
       "      <td>0</td>\n",
       "    </tr>\n",
       "    <tr>\n",
       "      <th>2</th>\n",
       "      <td>362513</td>\n",
       "      <td>4612.0301</td>\n",
       "      <td>00847.4985</td>\n",
       "      <td>01-08-2018 12:45:30</td>\n",
       "      <td>NaN</td>\n",
       "      <td>OK</td>\n",
       "      <td>0000.000</td>\n",
       "      <td>0056.49</td>\n",
       "      <td>00</td>\n",
       "      <td>00</td>\n",
       "      <td>...</td>\n",
       "      <td>035</td>\n",
       "      <td>0.06</td>\n",
       "      <td>24.9</td>\n",
       "      <td>0</td>\n",
       "      <td>005.649</td>\n",
       "      <td>000</td>\n",
       "      <td>-9.999,-9.999,-9.999,-9.999,-9.999,-9.999,-9.9...</td>\n",
       "      <td>00.000,00.000,00.000,00.000,00.000,00.000,00.0...</td>\n",
       "      <td>000,000,000,000,000,000,000,000,000,000,000,00...</td>\n",
       "      <td>0</td>\n",
       "    </tr>\n",
       "    <tr>\n",
       "      <th>3</th>\n",
       "      <td>362514</td>\n",
       "      <td>4612.0305</td>\n",
       "      <td>00847.4990</td>\n",
       "      <td>01-08-2018 12:46:01</td>\n",
       "      <td>NaN</td>\n",
       "      <td>OK</td>\n",
       "      <td>0000.000</td>\n",
       "      <td>0056.49</td>\n",
       "      <td>00</td>\n",
       "      <td>00</td>\n",
       "      <td>...</td>\n",
       "      <td>035</td>\n",
       "      <td>0.05</td>\n",
       "      <td>24.9</td>\n",
       "      <td>0</td>\n",
       "      <td>005.649</td>\n",
       "      <td>000</td>\n",
       "      <td>-9.999,-9.999,-9.999,-9.999,-9.999,-9.999,-9.9...</td>\n",
       "      <td>00.000,00.000,00.000,00.000,00.000,00.000,00.0...</td>\n",
       "      <td>000,000,000,000,000,000,000,000,000,000,000,00...</td>\n",
       "      <td>0</td>\n",
       "    </tr>\n",
       "    <tr>\n",
       "      <th>4</th>\n",
       "      <td>362515</td>\n",
       "      <td>4612.0303</td>\n",
       "      <td>00847.4992</td>\n",
       "      <td>01-08-2018 12:46:31</td>\n",
       "      <td>NaN</td>\n",
       "      <td>OK</td>\n",
       "      <td>0000.000</td>\n",
       "      <td>0056.49</td>\n",
       "      <td>00</td>\n",
       "      <td>00</td>\n",
       "      <td>...</td>\n",
       "      <td>034</td>\n",
       "      <td>0.06</td>\n",
       "      <td>24.9</td>\n",
       "      <td>0</td>\n",
       "      <td>005.649</td>\n",
       "      <td>000</td>\n",
       "      <td>-9.999,-9.999,-9.999,-9.999,-9.999,-9.999,-9.9...</td>\n",
       "      <td>00.000,00.000,00.000,00.000,00.000,00.000,00.0...</td>\n",
       "      <td>000,000,000,000,000,000,000,000,000,000,000,00...</td>\n",
       "      <td>0</td>\n",
       "    </tr>\n",
       "    <tr>\n",
       "      <th>...</th>\n",
       "      <td>...</td>\n",
       "      <td>...</td>\n",
       "      <td>...</td>\n",
       "      <td>...</td>\n",
       "      <td>...</td>\n",
       "      <td>...</td>\n",
       "      <td>...</td>\n",
       "      <td>...</td>\n",
       "      <td>...</td>\n",
       "      <td>...</td>\n",
       "      <td>...</td>\n",
       "      <td>...</td>\n",
       "      <td>...</td>\n",
       "      <td>...</td>\n",
       "      <td>...</td>\n",
       "      <td>...</td>\n",
       "      <td>...</td>\n",
       "      <td>...</td>\n",
       "      <td>...</td>\n",
       "      <td>...</td>\n",
       "      <td>...</td>\n",
       "    </tr>\n",
       "    <tr>\n",
       "      <th>4736</th>\n",
       "      <td>367249</td>\n",
       "      <td>4612.0313</td>\n",
       "      <td>00847.4956</td>\n",
       "      <td>03-08-2018 04:13:25</td>\n",
       "      <td>NaN</td>\n",
       "      <td>OK</td>\n",
       "      <td>0000.000</td>\n",
       "      <td>0056.71</td>\n",
       "      <td>00</td>\n",
       "      <td>00</td>\n",
       "      <td>...</td>\n",
       "      <td>015</td>\n",
       "      <td>0.06</td>\n",
       "      <td>24.9</td>\n",
       "      <td>0</td>\n",
       "      <td>005.671</td>\n",
       "      <td>000</td>\n",
       "      <td>-9.999,-9.999,-9.999,-9.999,-9.999,-9.999,-9.9...</td>\n",
       "      <td>00.000,00.000,00.000,00.000,00.000,00.000,00.0...</td>\n",
       "      <td>000,000,000,000,000,000,000,000,000,000,000,00...</td>\n",
       "      <td>0</td>\n",
       "    </tr>\n",
       "    <tr>\n",
       "      <th>4737</th>\n",
       "      <td>367250</td>\n",
       "      <td>4612.0313</td>\n",
       "      <td>00847.4955</td>\n",
       "      <td>03-08-2018 04:13:56</td>\n",
       "      <td>NaN</td>\n",
       "      <td>OK</td>\n",
       "      <td>0000.000</td>\n",
       "      <td>0056.71</td>\n",
       "      <td>00</td>\n",
       "      <td>00</td>\n",
       "      <td>...</td>\n",
       "      <td>015</td>\n",
       "      <td>0.06</td>\n",
       "      <td>24.9</td>\n",
       "      <td>0</td>\n",
       "      <td>005.671</td>\n",
       "      <td>000</td>\n",
       "      <td>-9.999,-9.999,-9.999,-9.999,-9.999,-9.999,-9.9...</td>\n",
       "      <td>00.000,00.000,00.000,00.000,00.000,00.000,00.0...</td>\n",
       "      <td>000,000,000,000,000,000,000,000,000,000,000,00...</td>\n",
       "      <td>0</td>\n",
       "    </tr>\n",
       "    <tr>\n",
       "      <th>4738</th>\n",
       "      <td>367251</td>\n",
       "      <td>4612.0313</td>\n",
       "      <td>00847.4955</td>\n",
       "      <td>03-08-2018 04:14:26</td>\n",
       "      <td>NaN</td>\n",
       "      <td>OK</td>\n",
       "      <td>0000.000</td>\n",
       "      <td>0056.71</td>\n",
       "      <td>00</td>\n",
       "      <td>00</td>\n",
       "      <td>...</td>\n",
       "      <td>015</td>\n",
       "      <td>0.06</td>\n",
       "      <td>24.9</td>\n",
       "      <td>0</td>\n",
       "      <td>005.671</td>\n",
       "      <td>000</td>\n",
       "      <td>-9.999,-9.999,-9.999,-9.999,-9.999,-9.999,-9.9...</td>\n",
       "      <td>00.000,00.000,00.000,00.000,00.000,00.000,00.0...</td>\n",
       "      <td>000,000,000,000,000,000,000,000,000,000,000,00...</td>\n",
       "      <td>0</td>\n",
       "    </tr>\n",
       "    <tr>\n",
       "      <th>4739</th>\n",
       "      <td>367252</td>\n",
       "      <td>4612.0313</td>\n",
       "      <td>00847.4954</td>\n",
       "      <td>03-08-2018 04:14:55</td>\n",
       "      <td>NaN</td>\n",
       "      <td>OK</td>\n",
       "      <td>0000.000</td>\n",
       "      <td>0056.71</td>\n",
       "      <td>00</td>\n",
       "      <td>00</td>\n",
       "      <td>...</td>\n",
       "      <td>015</td>\n",
       "      <td>0.06</td>\n",
       "      <td>24.9</td>\n",
       "      <td>0</td>\n",
       "      <td>005.671</td>\n",
       "      <td>000</td>\n",
       "      <td>-9.999,-9.999,-9.999,-9.999,-9.999,-9.999,-9.9...</td>\n",
       "      <td>00.000,00.000,00.000,00.000,00.000,00.000,00.0...</td>\n",
       "      <td>000,000,000,000,000,000,000,000,000,000,000,00...</td>\n",
       "      <td>0</td>\n",
       "    </tr>\n",
       "    <tr>\n",
       "      <th>4740</th>\n",
       "      <td>367253</td>\n",
       "      <td>4612.0313</td>\n",
       "      <td>00847.4954</td>\n",
       "      <td>03-08-2018 04:15:25</td>\n",
       "      <td>NaN</td>\n",
       "      <td>OK</td>\n",
       "      <td>0000.000</td>\n",
       "      <td>0056.71</td>\n",
       "      <td>00</td>\n",
       "      <td>00</td>\n",
       "      <td>...</td>\n",
       "      <td>015</td>\n",
       "      <td>0.07</td>\n",
       "      <td>24.9</td>\n",
       "      <td>0</td>\n",
       "      <td>005.671</td>\n",
       "      <td>000</td>\n",
       "      <td>-9.999,-9.999,-9.999,-9.999,-9.999,-9.999,-9.9...</td>\n",
       "      <td>00.000,00.000,00.000,00.000,00.000,00.000,00.0...</td>\n",
       "      <td>000,000,000,000,000,000,000,000,000,000,000,00...</td>\n",
       "      <td>0</td>\n",
       "    </tr>\n",
       "  </tbody>\n",
       "</table>\n",
       "<p>4741 rows × 24 columns</p>\n",
       "</div>"
      ],
      "text/plain": [
       "          0          1           2                    3    4   5         6   \\\n",
       "0     362511  4612.0301  00847.4977  01-08-2018 12:44:30  NaN  OK  0000.000   \n",
       "1     362512  4612.0301  00847.4978  01-08-2018 12:45:01  NaN  OK  0000.000   \n",
       "2     362513  4612.0301  00847.4985  01-08-2018 12:45:30  NaN  OK  0000.000   \n",
       "3     362514  4612.0305  00847.4990  01-08-2018 12:46:01  NaN  OK  0000.000   \n",
       "4     362515  4612.0303  00847.4992  01-08-2018 12:46:31  NaN  OK  0000.000   \n",
       "...      ...        ...         ...                  ...  ...  ..       ...   \n",
       "4736  367249  4612.0313  00847.4956  03-08-2018 04:13:25  NaN  OK  0000.000   \n",
       "4737  367250  4612.0313  00847.4955  03-08-2018 04:13:56  NaN  OK  0000.000   \n",
       "4738  367251  4612.0313  00847.4955  03-08-2018 04:14:26  NaN  OK  0000.000   \n",
       "4739  367252  4612.0313  00847.4954  03-08-2018 04:14:55  NaN  OK  0000.000   \n",
       "4740  367253  4612.0313  00847.4954  03-08-2018 04:15:25  NaN  OK  0000.000   \n",
       "\n",
       "           7   8   9   ...   14    15    16 17       18   19  \\\n",
       "0     0056.49  00  00  ...  035  0.06  24.9  0  005.649  000   \n",
       "1     0056.49  00  00  ...  035  0.06  24.9  0  005.649  000   \n",
       "2     0056.49  00  00  ...  035  0.06  24.9  0  005.649  000   \n",
       "3     0056.49  00  00  ...  035  0.05  24.9  0  005.649  000   \n",
       "4     0056.49  00  00  ...  034  0.06  24.9  0  005.649  000   \n",
       "...       ...  ..  ..  ...  ...   ...   ... ..      ...  ...   \n",
       "4736  0056.71  00  00  ...  015  0.06  24.9  0  005.671  000   \n",
       "4737  0056.71  00  00  ...  015  0.06  24.9  0  005.671  000   \n",
       "4738  0056.71  00  00  ...  015  0.06  24.9  0  005.671  000   \n",
       "4739  0056.71  00  00  ...  015  0.06  24.9  0  005.671  000   \n",
       "4740  0056.71  00  00  ...  015  0.07  24.9  0  005.671  000   \n",
       "\n",
       "                                                     20  \\\n",
       "0     -9.999,-9.999,-9.999,-9.999,-9.999,-9.999,-9.9...   \n",
       "1     -9.999,-9.999,-9.999,-9.999,-9.999,-9.999,-9.9...   \n",
       "2     -9.999,-9.999,-9.999,-9.999,-9.999,-9.999,-9.9...   \n",
       "3     -9.999,-9.999,-9.999,-9.999,-9.999,-9.999,-9.9...   \n",
       "4     -9.999,-9.999,-9.999,-9.999,-9.999,-9.999,-9.9...   \n",
       "...                                                 ...   \n",
       "4736  -9.999,-9.999,-9.999,-9.999,-9.999,-9.999,-9.9...   \n",
       "4737  -9.999,-9.999,-9.999,-9.999,-9.999,-9.999,-9.9...   \n",
       "4738  -9.999,-9.999,-9.999,-9.999,-9.999,-9.999,-9.9...   \n",
       "4739  -9.999,-9.999,-9.999,-9.999,-9.999,-9.999,-9.9...   \n",
       "4740  -9.999,-9.999,-9.999,-9.999,-9.999,-9.999,-9.9...   \n",
       "\n",
       "                                                     21  \\\n",
       "0     00.000,00.000,00.000,00.000,00.000,00.000,00.0...   \n",
       "1     00.000,00.000,00.000,00.000,00.000,00.000,00.0...   \n",
       "2     00.000,00.000,00.000,00.000,00.000,00.000,00.0...   \n",
       "3     00.000,00.000,00.000,00.000,00.000,00.000,00.0...   \n",
       "4     00.000,00.000,00.000,00.000,00.000,00.000,00.0...   \n",
       "...                                                 ...   \n",
       "4736  00.000,00.000,00.000,00.000,00.000,00.000,00.0...   \n",
       "4737  00.000,00.000,00.000,00.000,00.000,00.000,00.0...   \n",
       "4738  00.000,00.000,00.000,00.000,00.000,00.000,00.0...   \n",
       "4739  00.000,00.000,00.000,00.000,00.000,00.000,00.0...   \n",
       "4740  00.000,00.000,00.000,00.000,00.000,00.000,00.0...   \n",
       "\n",
       "                                                     22 23  \n",
       "0     000,000,000,000,000,000,000,000,000,000,000,00...  0  \n",
       "1     000,000,000,000,000,000,000,000,000,000,000,00...  0  \n",
       "2     000,000,000,000,000,000,000,000,000,000,000,00...  0  \n",
       "3     000,000,000,000,000,000,000,000,000,000,000,00...  0  \n",
       "4     000,000,000,000,000,000,000,000,000,000,000,00...  0  \n",
       "...                                                 ... ..  \n",
       "4736  000,000,000,000,000,000,000,000,000,000,000,00...  0  \n",
       "4737  000,000,000,000,000,000,000,000,000,000,000,00...  0  \n",
       "4738  000,000,000,000,000,000,000,000,000,000,000,00...  0  \n",
       "4739  000,000,000,000,000,000,000,000,000,000,000,00...  0  \n",
       "4740  000,000,000,000,000,000,000,000,000,000,000,00...  0  \n",
       "\n",
       "[4741 rows x 24 columns]"
      ]
     },
     "metadata": {},
     "output_type": "display_data"
    }
   ],
   "source": [
    "reader_kwargs = {}\n",
    "# - Define delimiter\n",
    "reader_kwargs[\"delimiter\"] = \",\"\n",
    "\n",
    "# - Avoid first column to become df index !!!\n",
    "reader_kwargs[\"index_col\"] = False\n",
    "\n",
    "# - Define behaviour when encountering bad lines\n",
    "reader_kwargs[\"on_bad_lines\"] = \"skip\"\n",
    "\n",
    "# - Define parser engine\n",
    "#   - C engine is faster\n",
    "#   - Python engine is more feature-complete\n",
    "reader_kwargs[\"engine\"] = \"python\"\n",
    "\n",
    "# - Define on-the-fly decompression of on-disk data\n",
    "#   - Available: gzip, bz2, zip\n",
    "reader_kwargs[\"compression\"] = \"infer\"\n",
    "\n",
    "# - Strings to recognize as NA/NaN and replace with standard NA flags\n",
    "#   - Already included: ‘#N/A’, ‘#N/A N/A’, ‘#NA’, ‘-1.#IND’, ‘-1.#QNAN’,\n",
    "#                       ‘-NaN’, ‘-nan’, ‘1.#IND’, ‘1.#QNAN’, ‘<NA>’, ‘N/A’,\n",
    "#                       ‘NA’, ‘NULL’, ‘NaN’, ‘n/a’, ‘nan’, ‘null’\n",
    "reader_kwargs[\"na_values\"] = [\"na\", \"\", \"error\"]\n",
    "\n",
    "# - Define max size of dask dataframe chunks (if lazy=True)\n",
    "#   - If None: use a single block for each file\n",
    "#   - Otherwise: \"<max_file_size>MB\" by which to cut up larger files\n",
    "reader_kwargs[\"blocksize\"] = None  # \"50MB\"\n",
    "\n",
    "reader_kwargs['header'] = None\n",
    "\n",
    "filepath = file_list[0]\n",
    "str_reader_kwargs = reader_kwargs.copy()\n",
    "str_reader_kwargs[\"dtype\"] = str  # or object\n",
    "\n",
    "\n",
    "df_raw = read_raw_data(\n",
    "    filepath, column_names=None, reader_kwargs=str_reader_kwargs, lazy=False\n",
    ")\n",
    "\n",
    "\n",
    "print(f'Dataframe for the file {os.path.basename(filepath)} :')\n",
    "display(df_raw)\n"
   ]
  },
  {
   "cell_type": "markdown",
   "id": "4133298a",
   "metadata": {},
   "source": [
    "If the structure of the dataframe looks fine (header, index), we are on the good track ! \n",
    "\n",
    "Depending on the schema of your data, this `reader_kwargs` dictionary may be fairly different from the one above. \n",
    "\n",
    "> 🚨 The `reader_kwargs` dictionary will be transferred to the reader at the end of this notebook. \n"
   ]
  },
  {
   "cell_type": "markdown",
   "id": "e6da230b",
   "metadata": {},
   "source": [
    "**6. Data exploration**\n",
    "\n",
    "The settings for the loading of the data is now ready, we can now load one file and analyse its content to see if there is any errors or inconsistencies.\n",
    "\n",
    "Here are some instructions : \n",
    "\n",
    "* Do not assign column names to the columns yet\n",
    "* Do not assign a dtype to the columns yet\n",
    "* Possibly look at multiple files ;)\n"
   ]
  },
  {
   "cell_type": "markdown",
   "id": "ae488b18",
   "metadata": {},
   "source": [
    "We print the content first 3 rows :\n",
    " (*Feel free to change the value of n to see more/less rows*)"
   ]
  },
  {
   "cell_type": "code",
   "execution_count": 28,
   "id": "d3094f46",
   "metadata": {
    "collapsed": true
   },
   "outputs": [
    {
     "name": "stdout",
     "output_type": "stream",
     "text": [
      " - Column 0 :\n",
      "      ['362511' '362512' '362513']\n",
      " - Column 1 :\n",
      "      ['4612.0301' '4612.0301' '4612.0301']\n",
      " - Column 2 :\n",
      "      ['00847.4977' '00847.4978' '00847.4985']\n",
      " - Column 3 :\n",
      "      ['01-08-2018 12:44:30' '01-08-2018 12:45:01' '01-08-2018 12:45:30']\n",
      " - Column 4 :\n",
      "      [nan nan nan]\n",
      " - Column 5 :\n",
      "      ['OK' 'OK' 'OK']\n",
      " - Column 6 :\n",
      "      ['0000.000' '0000.000' '0000.000']\n",
      " - Column 7 :\n",
      "      ['0056.49' '0056.49' '0056.49']\n",
      " - Column 8 :\n",
      "      ['00' '00' '00']\n",
      " - Column 9 :\n",
      "      ['00' '00' '00']\n",
      " - Column 10 :\n",
      "      ['-9.999' '-9.999' '-9.999']\n",
      " - Column 11 :\n",
      "      ['9999' '9999' '9999']\n",
      " - Column 12 :\n",
      "      ['12611' '12617' '12600']\n",
      " - Column 13 :\n",
      "      ['00000' '00000' '00000']\n",
      " - Column 14 :\n",
      "      ['035' '035' '035']\n",
      " - Column 15 :\n",
      "      ['0.06' '0.06' '0.06']\n",
      " - Column 16 :\n",
      "      ['24.9' '24.9' '24.9']\n",
      " - Column 17 :\n",
      "      ['0' '0' '0']\n",
      " - Column 18 :\n",
      "      ['005.649' '005.649' '005.649']\n",
      " - Column 19 :\n",
      "      ['000' '000' '000']\n",
      " - Column 20 :\n",
      "      ['-9.999,-9.999,-9.999,-9.999,-9.999,-9.999,-9.999,-9.999,-9.999,-9.999,-9.999,-9.999,-9.999,-9.999,-9.999,-9.999,-9.999,-9.999,-9.999,-9.999,-9.999,-9.999,-9.999,-9.999,-9.999,-9.999,-9.999,-9.999,-9.999,-9.999,-9.999,-9.999,'\n",
      " '-9.999,-9.999,-9.999,-9.999,-9.999,-9.999,-9.999,-9.999,-9.999,-9.999,-9.999,-9.999,-9.999,-9.999,-9.999,-9.999,-9.999,-9.999,-9.999,-9.999,-9.999,-9.999,-9.999,-9.999,-9.999,-9.999,-9.999,-9.999,-9.999,-9.999,-9.999,-9.999,'\n",
      " '-9.999,-9.999,-9.999,-9.999,-9.999,-9.999,-9.999,-9.999,-9.999,-9.999,-9.999,-9.999,-9.999,-9.999,-9.999,-9.999,-9.999,-9.999,-9.999,-9.999,-9.999,-9.999,-9.999,-9.999,-9.999,-9.999,-9.999,-9.999,-9.999,-9.999,-9.999,-9.999,']\n",
      " - Column 21 :\n",
      "      ['00.000,00.000,00.000,00.000,00.000,00.000,00.000,00.000,00.000,00.000,00.000,00.000,00.000,00.000,00.000,00.000,00.000,00.000,00.000,00.000,00.000,00.000,00.000,00.000,00.000,00.000,00.000,00.000,00.000,00.000,00.000,00.000,'\n",
      " '00.000,00.000,00.000,00.000,00.000,00.000,00.000,00.000,00.000,00.000,00.000,00.000,00.000,00.000,00.000,00.000,00.000,00.000,00.000,00.000,00.000,00.000,00.000,00.000,00.000,00.000,00.000,00.000,00.000,00.000,00.000,00.000,'\n",
      " '00.000,00.000,00.000,00.000,00.000,00.000,00.000,00.000,00.000,00.000,00.000,00.000,00.000,00.000,00.000,00.000,00.000,00.000,00.000,00.000,00.000,00.000,00.000,00.000,00.000,00.000,00.000,00.000,00.000,00.000,00.000,00.000,']\n",
      " - Column 22 :\n",
      "      ['000,000,000,000,000,000,000,000,000,000,000,000,000,000,000,000,000,000,000,000,000,000,000,000,000,000,000,000,000,000,000,000,000,000,000,000,000,000,000,000,000,000,000,000,000,000,000,000,000,000,000,000,000,000,000,000,000,000,000,000,000,000,000,000,000,000,000,000,000,000,000,000,000,000,000,000,000,000,000,000,000,000,000,000,000,000,000,000,000,000,000,000,000,000,000,000,000,000,000,000,000,000,000,000,000,000,000,000,000,000,000,000,000,000,000,000,000,000,000,000,000,000,000,000,000,000,000,000,000,000,000,000,000,000,000,000,000,000,000,000,000,000,000,000,000,000,000,000,000,000,000,000,000,000,000,000,000,000,000,000,000,000,000,000,000,000,000,000,000,000,000,000,000,000,000,000,000,000,000,000,000,000,000,000,000,000,000,000,000,000,000,000,000,000,000,000,000,000,000,000,000,000,000,000,000,000,000,000,000,000,000,000,000,000,000,000,000,000,000,000,000,000,000,000,000,000,000,000,000,000,000,000,000,000,000,000,000,000,000,000,000,000,000,000,000,000,000,000,000,000,000,000,000,000,000,000,000,000,000,000,000,000,000,000,000,000,000,000,000,000,000,000,000,000,000,000,000,000,000,000,000,000,000,000,000,000,000,000,000,000,000,000,000,000,000,000,000,000,000,000,000,000,000,000,000,000,000,000,000,000,000,000,000,000,000,000,000,000,000,000,000,000,000,000,000,000,000,000,000,000,000,000,000,000,000,000,000,000,000,000,000,000,000,000,000,000,000,000,000,000,000,000,000,000,000,000,000,000,000,000,000,000,000,000,000,000,000,000,000,000,000,000,000,000,000,000,000,000,000,000,000,000,000,000,000,000,000,000,000,000,000,000,000,000,000,000,000,000,000,000,000,000,000,000,000,000,000,000,000,000,000,000,000,000,000,000,000,000,000,000,000,000,000,000,000,000,000,000,000,000,000,000,000,000,000,000,000,000,000,000,000,000,000,000,000,000,000,000,000,000,000,000,000,000,000,000,000,000,000,000,000,000,000,000,000,000,000,000,000,000,000,000,000,000,000,000,000,000,000,000,000,000,000,000,000,000,000,000,000,000,000,000,000,000,000,000,000,000,000,000,000,000,000,000,000,000,000,000,000,000,000,000,000,000,000,000,000,000,000,000,000,000,000,000,000,000,000,000,000,000,000,000,000,000,000,000,000,000,000,000,000,000,000,000,000,000,000,000,000,000,000,000,000,000,000,000,000,000,000,000,000,000,000,000,000,000,000,000,000,000,000,000,000,000,000,000,000,000,000,000,000,000,000,000,000,000,000,000,000,000,000,000,000,000,000,000,000,000,000,000,000,000,000,000,000,000,000,000,000,000,000,000,000,000,000,000,000,000,000,000,000,000,000,000,000,000,000,000,000,000,000,000,000,000,000,000,000,000,000,000,000,000,000,000,000,000,000,000,000,000,000,000,000,000,000,000,000,000,000,000,000,000,000,000,000,000,000,000,000,000,000,000,000,000,000,000,000,000,000,000,000,000,000,000,000,000,000,000,000,000,000,000,000,000,000,000,000,000,000,000,000,000,000,000,000,000,000,000,000,000,000,000,000,000,000,000,000,000,000,000,000,000,000,000,000,000,000,000,000,000,000,000,000,000,000,000,000,000,000,000,000,000,000,000,000,000,000,000,000,000,000,000,000,000,000,000,000,000,000,000,000,000,000,000,000,000,000,000,000,000,000,000,000,000,000,000,000,000,000,000,000,000,000,000,000,000,000,000,000,000,000,000,000,000,000,000,000,000,000,000,000,000,000,000,000,000,000,000,000,000,000,000,000,000,000,000,000,000,000,000,000,000,000,000,000,000,000,000,000,000,000,000,000,000,000,000,000,000,000,000,000,000,000,000,000,000,000,000,000,000,000,000,000,000,000,000,000,000,000,000,000,000,000,000,000,000,000,000,000,000,000,000,000,000,000,000,000,000,000,000,000,000,000,000,000,000,000,000,000,000,000,000,000,000,000,000,000,000,000,000,000,000,000,000,000,000,000,000,000,000,000,000,000,000,000,000,000,000,000,000,000,000,000,000,000,000,000,000,000,000,000,000,000,000,000,000,000,000,000,000,000,000,000,000,000,000,000,000,000,000,000,000,000,000,000,000,000,000,000,000,000,000,000,000,000,000,000,000,000,000,000,000,000,000,000,000,000,000,000,000,000,000,000,000,000,000,000,000,000,000,000,000,000,000,000,000,000,000,000,000,000,000,000,000,000,000,000,000,000,000,000,000,000,000,000,000,000,000,000,000,000,000,000,000,'\n",
      " '000,000,000,000,000,000,000,000,000,000,000,000,000,000,000,000,000,000,000,000,000,000,000,000,000,000,000,000,000,000,000,000,000,000,000,000,000,000,000,000,000,000,000,000,000,000,000,000,000,000,000,000,000,000,000,000,000,000,000,000,000,000,000,000,000,000,000,000,000,000,000,000,000,000,000,000,000,000,000,000,000,000,000,000,000,000,000,000,000,000,000,000,000,000,000,000,000,000,000,000,000,000,000,000,000,000,000,000,000,000,000,000,000,000,000,000,000,000,000,000,000,000,000,000,000,000,000,000,000,000,000,000,000,000,000,000,000,000,000,000,000,000,000,000,000,000,000,000,000,000,000,000,000,000,000,000,000,000,000,000,000,000,000,000,000,000,000,000,000,000,000,000,000,000,000,000,000,000,000,000,000,000,000,000,000,000,000,000,000,000,000,000,000,000,000,000,000,000,000,000,000,000,000,000,000,000,000,000,000,000,000,000,000,000,000,000,000,000,000,000,000,000,000,000,000,000,000,000,000,000,000,000,000,000,000,000,000,000,000,000,000,000,000,000,000,000,000,000,000,000,000,000,000,000,000,000,000,000,000,000,000,000,000,000,000,000,000,000,000,000,000,000,000,000,000,000,000,000,000,000,000,000,000,000,000,000,000,000,000,000,000,000,000,000,000,000,000,000,000,000,000,000,000,000,000,000,000,000,000,000,000,000,000,000,000,000,000,000,000,000,000,000,000,000,000,000,000,000,000,000,000,000,000,000,000,000,000,000,000,000,000,000,000,000,000,000,000,000,000,000,000,000,000,000,000,000,000,000,000,000,000,000,000,000,000,000,000,000,000,000,000,000,000,000,000,000,000,000,000,000,000,000,000,000,000,000,000,000,000,000,000,000,000,000,000,000,000,000,000,000,000,000,000,000,000,000,000,000,000,000,000,000,000,000,000,000,000,000,000,000,000,000,000,000,000,000,000,000,000,000,000,000,000,000,000,000,000,000,000,000,000,000,000,000,000,000,000,000,000,000,000,000,000,000,000,000,000,000,000,000,000,000,000,000,000,000,000,000,000,000,000,000,000,000,000,000,000,000,000,000,000,000,000,000,000,000,000,000,000,000,000,000,000,000,000,000,000,000,000,000,000,000,000,000,000,000,000,000,000,000,000,000,000,000,000,000,000,000,000,000,000,000,000,000,000,000,000,000,000,000,000,000,000,000,000,000,000,000,000,000,000,000,000,000,000,000,000,000,000,000,000,000,000,000,000,000,000,000,000,000,000,000,000,000,000,000,000,000,000,000,000,000,000,000,000,000,000,000,000,000,000,000,000,000,000,000,000,000,000,000,000,000,000,000,000,000,000,000,000,000,000,000,000,000,000,000,000,000,000,000,000,000,000,000,000,000,000,000,000,000,000,000,000,000,000,000,000,000,000,000,000,000,000,000,000,000,000,000,000,000,000,000,000,000,000,000,000,000,000,000,000,000,000,000,000,000,000,000,000,000,000,000,000,000,000,000,000,000,000,000,000,000,000,000,000,000,000,000,000,000,000,000,000,000,000,000,000,000,000,000,000,000,000,000,000,000,000,000,000,000,000,000,000,000,000,000,000,000,000,000,000,000,000,000,000,000,000,000,000,000,000,000,000,000,000,000,000,000,000,000,000,000,000,000,000,000,000,000,000,000,000,000,000,000,000,000,000,000,000,000,000,000,000,000,000,000,000,000,000,000,000,000,000,000,000,000,000,000,000,000,000,000,000,000,000,000,000,000,000,000,000,000,000,000,000,000,000,000,000,000,000,000,000,000,000,000,000,000,000,000,000,000,000,000,000,000,000,000,000,000,000,000,000,000,000,000,000,000,000,000,000,000,000,000,000,000,000,000,000,000,000,000,000,000,000,000,000,000,000,000,000,000,000,000,000,000,000,000,000,000,000,000,000,000,000,000,000,000,000,000,000,000,000,000,000,000,000,000,000,000,000,000,000,000,000,000,000,000,000,000,000,000,000,000,000,000,000,000,000,000,000,000,000,000,000,000,000,000,000,000,000,000,000,000,000,000,000,000,000,000,000,000,000,000,000,000,000,000,000,000,000,000,000,000,000,000,000,000,000,000,000,000,000,000,000,000,000,000,000,000,000,000,000,000,000,000,000,000,000,000,000,000,000,000,000,000,000,000,000,000,000,000,000,000,000,000,000,000,000,000,000,000,000,000,000,000,000,000,000,000,000,000,000,000,000,000,000,000,000,000,000,000,000,000,000,000,000,000,000,000,000,000,000,000,000,000,000,000,000,000,000,000,000,000,000,000,000,000,000,000,000,000,000,000,'\n",
      " '000,000,000,000,000,000,000,000,000,000,000,000,000,000,000,000,000,000,000,000,000,000,000,000,000,000,000,000,000,000,000,000,000,000,000,000,000,000,000,000,000,000,000,000,000,000,000,000,000,000,000,000,000,000,000,000,000,000,000,000,000,000,000,000,000,000,000,000,000,000,000,000,000,000,000,000,000,000,000,000,000,000,000,000,000,000,000,000,000,000,000,000,000,000,000,000,000,000,000,000,000,000,000,000,000,000,000,000,000,000,000,000,000,000,000,000,000,000,000,000,000,000,000,000,000,000,000,000,000,000,000,000,000,000,000,000,000,000,000,000,000,000,000,000,000,000,000,000,000,000,000,000,000,000,000,000,000,000,000,000,000,000,000,000,000,000,000,000,000,000,000,000,000,000,000,000,000,000,000,000,000,000,000,000,000,000,000,000,000,000,000,000,000,000,000,000,000,000,000,000,000,000,000,000,000,000,000,000,000,000,000,000,000,000,000,000,000,000,000,000,000,000,000,000,000,000,000,000,000,000,000,000,000,000,000,000,000,000,000,000,000,000,000,000,000,000,000,000,000,000,000,000,000,000,000,000,000,000,000,000,000,000,000,000,000,000,000,000,000,000,000,000,000,000,000,000,000,000,000,000,000,000,000,000,000,000,000,000,000,000,000,000,000,000,000,000,000,000,000,000,000,000,000,000,000,000,000,000,000,000,000,000,000,000,000,000,000,000,000,000,000,000,000,000,000,000,000,000,000,000,000,000,000,000,000,000,000,000,000,000,000,000,000,000,000,000,000,000,000,000,000,000,000,000,000,000,000,000,000,000,000,000,000,000,000,000,000,000,000,000,000,000,000,000,000,000,000,000,000,000,000,000,000,000,000,000,000,000,000,000,000,000,000,000,000,000,000,000,000,000,000,000,000,000,000,000,000,000,000,000,000,000,000,000,000,000,000,000,000,000,000,000,000,000,000,000,000,000,000,000,000,000,000,000,000,000,000,000,000,000,000,000,000,000,000,000,000,000,000,000,000,000,000,000,000,000,000,000,000,000,000,000,000,000,000,000,000,000,000,000,000,000,000,000,000,000,000,000,000,000,000,000,000,000,000,000,000,000,000,000,000,000,000,000,000,000,000,000,000,000,000,000,000,000,000,000,000,000,000,000,000,000,000,000,000,000,000,000,000,000,000,000,000,000,000,000,000,000,000,000,000,000,000,000,000,000,000,000,000,000,000,000,000,000,000,000,000,000,000,000,000,000,000,000,000,000,000,000,000,000,000,000,000,000,000,000,000,000,000,000,000,000,000,000,000,000,000,000,000,000,000,000,000,000,000,000,000,000,000,000,000,000,000,000,000,000,000,000,000,000,000,000,000,000,000,000,000,000,000,000,000,000,000,000,000,000,000,000,000,000,000,000,000,000,000,000,000,000,000,000,000,000,000,000,000,000,000,000,000,000,000,000,000,000,000,000,000,000,000,000,000,000,000,000,000,000,000,000,000,000,000,000,000,000,000,000,000,000,000,000,000,000,000,000,000,000,000,000,000,000,000,000,000,000,000,000,000,000,000,000,000,000,000,000,000,000,000,000,000,000,000,000,000,000,000,000,000,000,000,000,000,000,000,000,000,000,000,000,000,000,000,000,000,000,000,000,000,000,000,000,000,000,000,000,000,000,000,000,000,000,000,000,000,000,000,000,000,000,000,000,000,000,000,000,000,000,000,000,000,000,000,000,000,000,000,000,000,000,000,000,000,000,000,000,000,000,000,000,000,000,000,000,000,000,000,000,000,000,000,000,000,000,000,000,000,000,000,000,000,000,000,000,000,000,000,000,000,000,000,000,000,000,000,000,000,000,000,000,000,000,000,000,000,000,000,000,000,000,000,000,000,000,000,000,000,000,000,000,000,000,000,000,000,000,000,000,000,000,000,000,000,000,000,000,000,000,000,000,000,000,000,000,000,000,000,000,000,000,000,000,000,000,000,000,000,000,000,000,000,000,000,000,000,000,000,000,000,000,000,000,000,000,000,000,000,000,000,000,000,000,000,000,000,000,000,000,000,000,000,000,000,000,000,000,000,000,000,000,000,000,000,000,000,000,000,000,000,000,000,000,000,000,000,000,000,000,000,000,000,000,000,000,000,000,000,000,000,000,000,000,000,000,000,000,000,000,000,000,000,000,000,000,000,000,000,000,000,000,000,000,000,000,000,000,000,000,000,000,000,000,000,000,000,000,000,000,000,000,000,000,000,000,000,000,000,000,000,000,000,000,000,000,000,000,000,000,000,000,000,000,000,000,000,000,000,000,000,000,000,000,000,000,000,000,']\n",
      " - Column 23 :\n",
      "      ['0' '0' '0']\n"
     ]
    }
   ],
   "source": [
    "print_df_first_n_rows(df_raw, n=2, column_names=False)"
   ]
  },
  {
   "cell_type": "code",
   "execution_count": 29,
   "id": "17d6c98b",
   "metadata": {
    "collapsed": true
   },
   "outputs": [
    {
     "data": {
      "text/html": [
       "<div>\n",
       "<style scoped>\n",
       "    .dataframe tbody tr th:only-of-type {\n",
       "        vertical-align: middle;\n",
       "    }\n",
       "\n",
       "    .dataframe tbody tr th {\n",
       "        vertical-align: top;\n",
       "    }\n",
       "\n",
       "    .dataframe thead th {\n",
       "        text-align: right;\n",
       "    }\n",
       "</style>\n",
       "<table border=\"1\" class=\"dataframe\">\n",
       "  <thead>\n",
       "    <tr style=\"text-align: right;\">\n",
       "      <th></th>\n",
       "      <th>0</th>\n",
       "      <th>1</th>\n",
       "      <th>2</th>\n",
       "      <th>3</th>\n",
       "      <th>4</th>\n",
       "      <th>5</th>\n",
       "      <th>6</th>\n",
       "      <th>7</th>\n",
       "      <th>8</th>\n",
       "      <th>9</th>\n",
       "      <th>...</th>\n",
       "      <th>14</th>\n",
       "      <th>15</th>\n",
       "      <th>16</th>\n",
       "      <th>17</th>\n",
       "      <th>18</th>\n",
       "      <th>19</th>\n",
       "      <th>20</th>\n",
       "      <th>21</th>\n",
       "      <th>22</th>\n",
       "      <th>23</th>\n",
       "    </tr>\n",
       "  </thead>\n",
       "  <tbody>\n",
       "    <tr>\n",
       "      <th>0</th>\n",
       "      <td>362511</td>\n",
       "      <td>4612.0301</td>\n",
       "      <td>00847.4977</td>\n",
       "      <td>01-08-2018 12:44:30</td>\n",
       "      <td>NaN</td>\n",
       "      <td>OK</td>\n",
       "      <td>0000.000</td>\n",
       "      <td>0056.49</td>\n",
       "      <td>00</td>\n",
       "      <td>00</td>\n",
       "      <td>...</td>\n",
       "      <td>035</td>\n",
       "      <td>0.06</td>\n",
       "      <td>24.9</td>\n",
       "      <td>0</td>\n",
       "      <td>005.649</td>\n",
       "      <td>000</td>\n",
       "      <td>-9.999,-9.999,-9.999,-9.999,-9.999,-9.999,-9.9...</td>\n",
       "      <td>00.000,00.000,00.000,00.000,00.000,00.000,00.0...</td>\n",
       "      <td>000,000,000,000,000,000,000,000,000,000,000,00...</td>\n",
       "      <td>0</td>\n",
       "    </tr>\n",
       "    <tr>\n",
       "      <th>1</th>\n",
       "      <td>362512</td>\n",
       "      <td>4612.0301</td>\n",
       "      <td>00847.4978</td>\n",
       "      <td>01-08-2018 12:45:01</td>\n",
       "      <td>NaN</td>\n",
       "      <td>OK</td>\n",
       "      <td>0000.000</td>\n",
       "      <td>0056.49</td>\n",
       "      <td>00</td>\n",
       "      <td>00</td>\n",
       "      <td>...</td>\n",
       "      <td>035</td>\n",
       "      <td>0.06</td>\n",
       "      <td>24.9</td>\n",
       "      <td>0</td>\n",
       "      <td>005.649</td>\n",
       "      <td>000</td>\n",
       "      <td>-9.999,-9.999,-9.999,-9.999,-9.999,-9.999,-9.9...</td>\n",
       "      <td>00.000,00.000,00.000,00.000,00.000,00.000,00.0...</td>\n",
       "      <td>000,000,000,000,000,000,000,000,000,000,000,00...</td>\n",
       "      <td>0</td>\n",
       "    </tr>\n",
       "    <tr>\n",
       "      <th>2</th>\n",
       "      <td>362513</td>\n",
       "      <td>4612.0301</td>\n",
       "      <td>00847.4985</td>\n",
       "      <td>01-08-2018 12:45:30</td>\n",
       "      <td>NaN</td>\n",
       "      <td>OK</td>\n",
       "      <td>0000.000</td>\n",
       "      <td>0056.49</td>\n",
       "      <td>00</td>\n",
       "      <td>00</td>\n",
       "      <td>...</td>\n",
       "      <td>035</td>\n",
       "      <td>0.06</td>\n",
       "      <td>24.9</td>\n",
       "      <td>0</td>\n",
       "      <td>005.649</td>\n",
       "      <td>000</td>\n",
       "      <td>-9.999,-9.999,-9.999,-9.999,-9.999,-9.999,-9.9...</td>\n",
       "      <td>00.000,00.000,00.000,00.000,00.000,00.000,00.0...</td>\n",
       "      <td>000,000,000,000,000,000,000,000,000,000,000,00...</td>\n",
       "      <td>0</td>\n",
       "    </tr>\n",
       "  </tbody>\n",
       "</table>\n",
       "<p>3 rows × 24 columns</p>\n",
       "</div>"
      ],
      "text/plain": [
       "       0          1           2                    3    4   5         6   \\\n",
       "0  362511  4612.0301  00847.4977  01-08-2018 12:44:30  NaN  OK  0000.000   \n",
       "1  362512  4612.0301  00847.4978  01-08-2018 12:45:01  NaN  OK  0000.000   \n",
       "2  362513  4612.0301  00847.4985  01-08-2018 12:45:30  NaN  OK  0000.000   \n",
       "\n",
       "        7   8   9   ...   14    15    16 17       18   19  \\\n",
       "0  0056.49  00  00  ...  035  0.06  24.9  0  005.649  000   \n",
       "1  0056.49  00  00  ...  035  0.06  24.9  0  005.649  000   \n",
       "2  0056.49  00  00  ...  035  0.06  24.9  0  005.649  000   \n",
       "\n",
       "                                                  20  \\\n",
       "0  -9.999,-9.999,-9.999,-9.999,-9.999,-9.999,-9.9...   \n",
       "1  -9.999,-9.999,-9.999,-9.999,-9.999,-9.999,-9.9...   \n",
       "2  -9.999,-9.999,-9.999,-9.999,-9.999,-9.999,-9.9...   \n",
       "\n",
       "                                                  21  \\\n",
       "0  00.000,00.000,00.000,00.000,00.000,00.000,00.0...   \n",
       "1  00.000,00.000,00.000,00.000,00.000,00.000,00.0...   \n",
       "2  00.000,00.000,00.000,00.000,00.000,00.000,00.0...   \n",
       "\n",
       "                                                  22 23  \n",
       "0  000,000,000,000,000,000,000,000,000,000,000,00...  0  \n",
       "1  000,000,000,000,000,000,000,000,000,000,000,00...  0  \n",
       "2  000,000,000,000,000,000,000,000,000,000,000,00...  0  \n",
       "\n",
       "[3 rows x 24 columns]"
      ]
     },
     "execution_count": 29,
     "metadata": {},
     "output_type": "execute_result"
    }
   ],
   "source": [
    "df_raw.head(3)"
   ]
  },
  {
   "cell_type": "markdown",
   "id": "40aa1bcb",
   "metadata": {},
   "source": [
    "We print the content of n rows picked randomly : "
   ]
  },
  {
   "cell_type": "code",
   "execution_count": 30,
   "id": "fa0ca8c2",
   "metadata": {
    "collapsed": true
   },
   "outputs": [
    {
     "name": "stdout",
     "output_type": "stream",
     "text": [
      "- Column 0 : ['362582' '363501' '367139' '364888' '363502' '364372']\n",
      "- Column 1 : ['4612.0334' '4612.0312' '4612.0284' '4612.0330' '4612.0312' '4612.0306']\n",
      "- Column 2 : ['00847.4961' '00847.4952' '00847.4968' '00847.4958' '00847.4953'\n",
      " '00847.4965']\n",
      "- Column 3 : ['01-08-2018 13:20:01' '01-08-2018 20:59:31' '03-08-2018 03:18:31'\n",
      " '02-08-2018 08:33:01' '01-08-2018 21:00:01' '02-08-2018 04:15:01']\n",
      "- Column 4 : [nan nan nan nan nan nan]\n",
      "- Column 5 : ['OK' 'OK' 'OK' 'OK' 'OK' 'OK']\n",
      "- Column 6 : ['0000.000' '0000.000' '0000.000' '0000.000' '0000.000' '0000.000']\n",
      "- Column 7 : ['0056.49' '0056.67' '0056.71' '0056.67' '0056.67' '0056.67']\n",
      "- Column 8 : ['00' '00' '00' '00' '00' '00']\n",
      "- Column 9 : ['00' '00' '00' '00' '00' '00']\n",
      "- Column 10 : ['-9.999' '-9.999' '-9.999' '-9.999' '-9.999' '-9.999']\n",
      "- Column 11 : ['9999' '9999' '9999' '9999' '9999' '9999']\n",
      "- Column 12 : ['12637' '12514' '11413' '12662' '12515' '12575']\n",
      "- Column 13 : ['00000' '00000' '00000' '00000' '00000' '00000']\n",
      "- Column 14 : ['034' '018' '015' '029' '018' '017']\n",
      "- Column 15 : ['0.06' '0.06' '0.06' '0.06' '0.06' '0.06']\n",
      "- Column 16 : ['24.9' '24.9' '24.9' '24.9' '24.9' '24.9']\n",
      "- Column 17 : ['0' '0' '0' '0' '0' '0']\n",
      "- Column 18 : ['005.649' '005.667' '005.671' '005.667' '005.667' '005.667']\n",
      "- Column 19 : ['000' '000' '000' '000' '000' '000']\n",
      "- Column 20 : ['-9.999,-9.999,-9.999,-9.999,-9.999,-9.999,-9.999,-9.999,-9.999,-9.999,-9.999,-9.999,-9.999,-9.999,-9.999,-9.999,-9.999,-9.999,-9.999,-9.999,-9.999,-9.999,-9.999,-9.999,-9.999,-9.999,-9.999,-9.999,-9.999,-9.999,-9.999,-9.999,'\n",
      " '-9.999,-9.999,-9.999,-9.999,-9.999,-9.999,-9.999,-9.999,-9.999,-9.999,-9.999,-9.999,-9.999,-9.999,-9.999,-9.999,-9.999,-9.999,-9.999,-9.999,-9.999,-9.999,-9.999,-9.999,-9.999,-9.999,-9.999,-9.999,-9.999,-9.999,-9.999,-9.999,'\n",
      " '-9.999,-9.999,-9.999,-9.999,-9.999,-9.999,-9.999,-9.999,-9.999,-9.999,-9.999,-9.999,-9.999,-9.999,-9.999,-9.999,-9.999,-9.999,-9.999,-9.999,-9.999,-9.999,-9.999,-9.999,-9.999,-9.999,-9.999,-9.999,-9.999,-9.999,-9.999,-9.999,'\n",
      " '-9.999,-9.999,-9.999,-9.999,-9.999,-9.999,-9.999,-9.999,-9.999,-9.999,-9.999,-9.999,-9.999,-9.999,-9.999,-9.999,-9.999,-9.999,-9.999,-9.999,-9.999,-9.999,-9.999,-9.999,-9.999,-9.999,-9.999,-9.999,-9.999,-9.999,-9.999,-9.999,'\n",
      " '-9.999,-9.999,-9.999,-9.999,-9.999,-9.999,-9.999,-9.999,-9.999,-9.999,-9.999,-9.999,-9.999,-9.999,-9.999,-9.999,-9.999,-9.999,-9.999,-9.999,-9.999,-9.999,-9.999,-9.999,-9.999,-9.999,-9.999,-9.999,-9.999,-9.999,-9.999,-9.999,'\n",
      " '-9.999,-9.999,-9.999,-9.999,-9.999,-9.999,-9.999,-9.999,-9.999,-9.999,-9.999,-9.999,-9.999,-9.999,-9.999,-9.999,-9.999,-9.999,-9.999,-9.999,-9.999,-9.999,-9.999,-9.999,-9.999,-9.999,-9.999,-9.999,-9.999,-9.999,-9.999,-9.999,']\n",
      "- Column 21 : ['00.000,00.000,00.000,00.000,00.000,00.000,00.000,00.000,00.000,00.000,00.000,00.000,00.000,00.000,00.000,00.000,00.000,00.000,00.000,00.000,00.000,00.000,00.000,00.000,00.000,00.000,00.000,00.000,00.000,00.000,00.000,00.000,'\n",
      " '00.000,00.000,00.000,00.000,00.000,00.000,00.000,00.000,00.000,00.000,00.000,00.000,00.000,00.000,00.000,00.000,00.000,00.000,00.000,00.000,00.000,00.000,00.000,00.000,00.000,00.000,00.000,00.000,00.000,00.000,00.000,00.000,'\n",
      " '00.000,00.000,00.000,00.000,00.000,00.000,00.000,00.000,00.000,00.000,00.000,00.000,00.000,00.000,00.000,00.000,00.000,00.000,00.000,00.000,00.000,00.000,00.000,00.000,00.000,00.000,00.000,00.000,00.000,00.000,00.000,00.000,'\n",
      " '00.000,00.000,00.000,00.000,00.000,00.000,00.000,00.000,00.000,00.000,00.000,00.000,00.000,00.000,00.000,00.000,00.000,00.000,00.000,00.000,00.000,00.000,00.000,00.000,00.000,00.000,00.000,00.000,00.000,00.000,00.000,00.000,'\n",
      " '00.000,00.000,00.000,00.000,00.000,00.000,00.000,00.000,00.000,00.000,00.000,00.000,00.000,00.000,00.000,00.000,00.000,00.000,00.000,00.000,00.000,00.000,00.000,00.000,00.000,00.000,00.000,00.000,00.000,00.000,00.000,00.000,'\n",
      " '00.000,00.000,00.000,00.000,00.000,00.000,00.000,00.000,00.000,00.000,00.000,00.000,00.000,00.000,00.000,00.000,00.000,00.000,00.000,00.000,00.000,00.000,00.000,00.000,00.000,00.000,00.000,00.000,00.000,00.000,00.000,00.000,']\n",
      "- Column 22 : ['000,000,000,000,000,000,000,000,000,000,000,000,000,000,000,000,000,000,000,000,000,000,000,000,000,000,000,000,000,000,000,000,000,000,000,000,000,000,000,000,000,000,000,000,000,000,000,000,000,000,000,000,000,000,000,000,000,000,000,000,000,000,000,000,000,000,000,000,000,000,000,000,000,000,000,000,000,000,000,000,000,000,000,000,000,000,000,000,000,000,000,000,000,000,000,000,000,000,000,000,000,000,000,000,000,000,000,000,000,000,000,000,000,000,000,000,000,000,000,000,000,000,000,000,000,000,000,000,000,000,000,000,000,000,000,000,000,000,000,000,000,000,000,000,000,000,000,000,000,000,000,000,000,000,000,000,000,000,000,000,000,000,000,000,000,000,000,000,000,000,000,000,000,000,000,000,000,000,000,000,000,000,000,000,000,000,000,000,000,000,000,000,000,000,000,000,000,000,000,000,000,000,000,000,000,000,000,000,000,000,000,000,000,000,000,000,000,000,000,000,000,000,000,000,000,000,000,000,000,000,000,000,000,000,000,000,000,000,000,000,000,000,000,000,000,000,000,000,000,000,000,000,000,000,000,000,000,000,000,000,000,000,000,000,000,000,000,000,000,000,000,000,000,000,000,000,000,000,000,000,000,000,000,000,000,000,000,000,000,000,000,000,000,000,000,000,000,000,000,000,000,000,000,000,000,000,000,000,000,000,000,000,000,000,000,000,000,000,000,000,000,000,000,000,000,000,000,000,000,000,000,000,000,000,000,000,000,000,000,000,000,000,000,000,000,000,000,000,000,000,000,000,000,000,000,000,000,000,000,000,000,000,000,000,000,000,000,000,000,000,000,000,000,000,000,000,000,000,000,000,000,000,000,000,000,000,000,000,000,000,000,000,000,000,000,000,000,000,000,000,000,000,000,000,000,000,000,000,000,000,000,000,000,000,000,000,000,000,000,000,000,000,000,000,000,000,000,000,000,000,000,000,000,000,000,000,000,000,000,000,000,000,000,000,000,000,000,000,000,000,000,000,000,000,000,000,000,000,000,000,000,000,000,000,000,000,000,000,000,000,000,000,000,000,000,000,000,000,000,000,000,000,000,000,000,000,000,000,000,000,000,000,000,000,000,000,000,000,000,000,000,000,000,000,000,000,000,000,000,000,000,000,000,000,000,000,000,000,000,000,000,000,000,000,000,000,000,000,000,000,000,000,000,000,000,000,000,000,000,000,000,000,000,000,000,000,000,000,000,000,000,000,000,000,000,000,000,000,000,000,000,000,000,000,000,000,000,000,000,000,000,000,000,000,000,000,000,000,000,000,000,000,000,000,000,000,000,000,000,000,000,000,000,000,000,000,000,000,000,000,000,000,000,000,000,000,000,000,000,000,000,000,000,000,000,000,000,000,000,000,000,000,000,000,000,000,000,000,000,000,000,000,000,000,000,000,000,000,000,000,000,000,000,000,000,000,000,000,000,000,000,000,000,000,000,000,000,000,000,000,000,000,000,000,000,000,000,000,000,000,000,000,000,000,000,000,000,000,000,000,000,000,000,000,000,000,000,000,000,000,000,000,000,000,000,000,000,000,000,000,000,000,000,000,000,000,000,000,000,000,000,000,000,000,000,000,000,000,000,000,000,000,000,000,000,000,000,000,000,000,000,000,000,000,000,000,000,000,000,000,000,000,000,000,000,000,000,000,000,000,000,000,000,000,000,000,000,000,000,000,000,000,000,000,000,000,000,000,000,000,000,000,000,000,000,000,000,000,000,000,000,000,000,000,000,000,000,000,000,000,000,000,000,000,000,000,000,000,000,000,000,000,000,000,000,000,000,000,000,000,000,000,000,000,000,000,000,000,000,000,000,000,000,000,000,000,000,000,000,000,000,000,000,000,000,000,000,000,000,000,000,000,000,000,000,000,000,000,000,000,000,000,000,000,000,000,000,000,000,000,000,000,000,000,000,000,000,000,000,000,000,000,000,000,000,000,000,000,000,000,000,000,000,000,000,000,000,000,000,000,000,000,000,000,000,000,000,000,000,000,000,000,000,000,000,000,000,000,000,000,000,000,000,000,000,000,000,000,000,000,000,000,000,000,000,000,000,000,000,000,000,000,000,000,000,000,000,000,000,000,000,000,000,000,000,000,000,000,000,000,000,000,000,000,000,000,000,000,000,000,000,000,000,000,000,000,000,000,000,000,000,000,000,000,000,000,000,000,000,000,000,000,000,000,000,000,000,000,000,000,000,000,000,000,000,000,000,000,000,000,000,000,000,000,000,000,000,000,000,000,000,000,000,000,000,000,000,000,000,000,000,000,000,000,'\n",
      " '000,000,000,000,000,000,000,000,000,000,000,000,000,000,000,000,000,000,000,000,000,000,000,000,000,000,000,000,000,000,000,000,000,000,000,000,000,000,000,000,000,000,000,000,000,000,000,000,000,000,000,000,000,000,000,000,000,000,000,000,000,000,000,000,000,000,000,000,000,000,000,000,000,000,000,000,000,000,000,000,000,000,000,000,000,000,000,000,000,000,000,000,000,000,000,000,000,000,000,000,000,000,000,000,000,000,000,000,000,000,000,000,000,000,000,000,000,000,000,000,000,000,000,000,000,000,000,000,000,000,000,000,000,000,000,000,000,000,000,000,000,000,000,000,000,000,000,000,000,000,000,000,000,000,000,000,000,000,000,000,000,000,000,000,000,000,000,000,000,000,000,000,000,000,000,000,000,000,000,000,000,000,000,000,000,000,000,000,000,000,000,000,000,000,000,000,000,000,000,000,000,000,000,000,000,000,000,000,000,000,000,000,000,000,000,000,000,000,000,000,000,000,000,000,000,000,000,000,000,000,000,000,000,000,000,000,000,000,000,000,000,000,000,000,000,000,000,000,000,000,000,000,000,000,000,000,000,000,000,000,000,000,000,000,000,000,000,000,000,000,000,000,000,000,000,000,000,000,000,000,000,000,000,000,000,000,000,000,000,000,000,000,000,000,000,000,000,000,000,000,000,000,000,000,000,000,000,000,000,000,000,000,000,000,000,000,000,000,000,000,000,000,000,000,000,000,000,000,000,000,000,000,000,000,000,000,000,000,000,000,000,000,000,000,000,000,000,000,000,000,000,000,000,000,000,000,000,000,000,000,000,000,000,000,000,000,000,000,000,000,000,000,000,000,000,000,000,000,000,000,000,000,000,000,000,000,000,000,000,000,000,000,000,000,000,000,000,000,000,000,000,000,000,000,000,000,000,000,000,000,000,000,000,000,000,000,000,000,000,000,000,000,000,000,000,000,000,000,000,000,000,000,000,000,000,000,000,000,000,000,000,000,000,000,000,000,000,000,000,000,000,000,000,000,000,000,000,000,000,000,000,000,000,000,000,000,000,000,000,000,000,000,000,000,000,000,000,000,000,000,000,000,000,000,000,000,000,000,000,000,000,000,000,000,000,000,000,000,000,000,000,000,000,000,000,000,000,000,000,000,000,000,000,000,000,000,000,000,000,000,000,000,000,000,000,000,000,000,000,000,000,000,000,000,000,000,000,000,000,000,000,000,000,000,000,000,000,000,000,000,000,000,000,000,000,000,000,000,000,000,000,000,000,000,000,000,000,000,000,000,000,000,000,000,000,000,000,000,000,000,000,000,000,000,000,000,000,000,000,000,000,000,000,000,000,000,000,000,000,000,000,000,000,000,000,000,000,000,000,000,000,000,000,000,000,000,000,000,000,000,000,000,000,000,000,000,000,000,000,000,000,000,000,000,000,000,000,000,000,000,000,000,000,000,000,000,000,000,000,000,000,000,000,000,000,000,000,000,000,000,000,000,000,000,000,000,000,000,000,000,000,000,000,000,000,000,000,000,000,000,000,000,000,000,000,000,000,000,000,000,000,000,000,000,000,000,000,000,000,000,000,000,000,000,000,000,000,000,000,000,000,000,000,000,000,000,000,000,000,000,000,000,000,000,000,000,000,000,000,000,000,000,000,000,000,000,000,000,000,000,000,000,000,000,000,000,000,000,000,000,000,000,000,000,000,000,000,000,000,000,000,000,000,000,000,000,000,000,000,000,000,000,000,000,000,000,000,000,000,000,000,000,000,000,000,000,000,000,000,000,000,000,000,000,000,000,000,000,000,000,000,000,000,000,000,000,000,000,000,000,000,000,000,000,000,000,000,000,000,000,000,000,000,000,000,000,000,000,000,000,000,000,000,000,000,000,000,000,000,000,000,000,000,000,000,000,000,000,000,000,000,000,000,000,000,000,000,000,000,000,000,000,000,000,000,000,000,000,000,000,000,000,000,000,000,000,000,000,000,000,000,000,000,000,000,000,000,000,000,000,000,000,000,000,000,000,000,000,000,000,000,000,000,000,000,000,000,000,000,000,000,000,000,000,000,000,000,000,000,000,000,000,000,000,000,000,000,000,000,000,000,000,000,000,000,000,000,000,000,000,000,000,000,000,000,000,000,000,000,000,000,000,000,000,000,000,000,000,000,000,000,000,000,000,000,000,000,000,000,000,000,000,000,000,000,000,000,000,000,000,000,000,000,000,000,000,000,000,000,000,000,000,000,000,000,000,000,000,000,000,000,000,000,000,000,000,000,000,000,000,000,000,000,000,000,000,000,000,000,000,000,000,000,000,'\n",
      " '000,000,000,000,000,000,000,000,000,000,000,000,000,000,000,000,000,000,000,000,000,000,000,000,000,000,000,000,000,000,000,000,000,000,000,000,000,000,000,000,000,000,000,000,000,000,000,000,000,000,000,000,000,000,000,000,000,000,000,000,000,000,000,000,000,000,000,000,000,000,000,000,000,000,000,000,000,000,000,000,000,000,000,000,000,000,000,000,000,000,000,000,000,000,000,000,000,000,000,000,000,000,000,000,000,000,000,000,000,000,000,000,000,000,000,000,000,000,000,000,000,000,000,000,000,000,000,000,000,000,000,000,000,000,000,000,000,000,000,000,000,000,000,000,000,000,000,000,000,000,000,000,000,000,000,000,000,000,000,000,000,000,000,000,000,000,000,000,000,000,000,000,000,000,000,000,000,000,000,000,000,000,000,000,000,000,000,000,000,000,000,000,000,000,000,000,000,000,000,000,000,000,000,000,000,000,000,000,000,000,000,000,000,000,000,000,000,000,000,000,000,000,000,000,000,000,000,000,000,000,000,000,000,000,000,000,000,000,000,000,000,000,000,000,000,000,000,000,000,000,000,000,000,000,000,000,000,000,000,000,000,000,000,000,000,000,000,000,000,000,000,000,000,000,000,000,000,000,000,000,000,000,000,000,000,000,000,000,000,000,000,000,000,000,000,000,000,000,000,000,000,000,000,000,000,000,000,000,000,000,000,000,000,000,000,000,000,000,000,000,000,000,000,000,000,000,000,000,000,000,000,000,000,000,000,000,000,000,000,000,000,000,000,000,000,000,000,000,000,000,000,000,000,000,000,000,000,000,000,000,000,000,000,000,000,000,000,000,000,000,000,000,000,000,000,000,000,000,000,000,000,000,000,000,000,000,000,000,000,000,000,000,000,000,000,000,000,000,000,000,000,000,000,000,000,000,000,000,000,000,000,000,000,000,000,000,000,000,000,000,000,000,000,000,000,000,000,000,000,000,000,000,000,000,000,000,000,000,000,000,000,000,000,000,000,000,000,000,000,000,000,000,000,000,000,000,000,000,000,000,000,000,000,000,000,000,000,000,000,000,000,000,000,000,000,000,000,000,000,000,000,000,000,000,000,000,000,000,000,000,000,000,000,000,000,000,000,000,000,000,000,000,000,000,000,000,000,000,000,000,000,000,000,000,000,000,000,000,000,000,000,000,000,000,000,000,000,000,000,000,000,000,000,000,000,000,000,000,000,000,000,000,000,000,000,000,000,000,000,000,000,000,000,000,000,000,000,000,000,000,000,000,000,000,000,000,000,000,000,000,000,000,000,000,000,000,000,000,000,000,000,000,000,000,000,000,000,000,000,000,000,000,000,000,000,000,000,000,000,000,000,000,000,000,000,000,000,000,000,000,000,000,000,000,000,000,000,000,000,000,000,000,000,000,000,000,000,000,000,000,000,000,000,000,000,000,000,000,000,000,000,000,000,000,000,000,000,000,000,000,000,000,000,000,000,000,000,000,000,000,000,000,000,000,000,000,000,000,000,000,000,000,000,000,000,000,000,000,000,000,000,000,000,000,000,000,000,000,000,000,000,000,000,000,000,000,000,000,000,000,000,000,000,000,000,000,000,000,000,000,000,000,000,000,000,000,000,000,000,000,000,000,000,000,000,000,000,000,000,000,000,000,000,000,000,000,000,000,000,000,000,000,000,000,000,000,000,000,000,000,000,000,000,000,000,000,000,000,000,000,000,000,000,000,000,000,000,000,000,000,000,000,000,000,000,000,000,000,000,000,000,000,000,000,000,000,000,000,000,000,000,000,000,000,000,000,000,000,000,000,000,000,000,000,000,000,000,000,000,000,000,000,000,000,000,000,000,000,000,000,000,000,000,000,000,000,000,000,000,000,000,000,000,000,000,000,000,000,000,000,000,000,000,000,000,000,000,000,000,000,000,000,000,000,000,000,000,000,000,000,000,000,000,000,000,000,000,000,000,000,000,000,000,000,000,000,000,000,000,000,000,000,000,000,000,000,000,000,000,000,000,000,000,000,000,000,000,000,000,000,000,000,000,000,000,000,000,000,000,000,000,000,000,000,000,000,000,000,000,000,000,000,000,000,000,000,000,000,000,000,000,000,000,000,000,000,000,000,000,000,000,000,000,000,000,000,000,000,000,000,000,000,000,000,000,000,000,000,000,000,000,000,000,000,000,000,000,000,000,000,000,000,000,000,000,000,000,000,000,000,000,000,000,000,000,000,000,000,000,000,000,000,000,000,000,000,000,000,000,000,000,000,000,000,000,000,000,000,000,000,000,000,000,000,000,000,000,000,000,000,000,000,000,000,'\n",
      " '000,000,000,000,000,000,000,000,000,000,000,000,000,000,000,000,000,000,000,000,000,000,000,000,000,000,000,000,000,000,000,000,000,000,000,000,000,000,000,000,000,000,000,000,000,000,000,000,000,000,000,000,000,000,000,000,000,000,000,000,000,000,000,000,000,000,000,000,000,000,000,000,000,000,000,000,000,000,000,000,000,000,000,000,000,000,000,000,000,000,000,000,000,000,000,000,000,000,000,000,000,000,000,000,000,000,000,000,000,000,000,000,000,000,000,000,000,000,000,000,000,000,000,000,000,000,000,000,000,000,000,000,000,000,000,000,000,000,000,000,000,000,000,000,000,000,000,000,000,000,000,000,000,000,000,000,000,000,000,000,000,000,000,000,000,000,000,000,000,000,000,000,000,000,000,000,000,000,000,000,000,000,000,000,000,000,000,000,000,000,000,000,000,000,000,000,000,000,000,000,000,000,000,000,000,000,000,000,000,000,000,000,000,000,000,000,000,000,000,000,000,000,000,000,000,000,000,000,000,000,000,000,000,000,000,000,000,000,000,000,000,000,000,000,000,000,000,000,000,000,000,000,000,000,000,000,000,000,000,000,000,000,000,000,000,000,000,000,000,000,000,000,000,000,000,000,000,000,000,000,000,000,000,000,000,000,000,000,000,000,000,000,000,000,000,000,000,000,000,000,000,000,000,000,000,000,000,000,000,000,000,000,000,000,000,000,000,000,000,000,000,000,000,000,000,000,000,000,000,000,000,000,000,000,000,000,000,000,000,000,000,000,000,000,000,000,000,000,000,000,000,000,000,000,000,000,000,000,000,000,000,000,000,000,000,000,000,000,000,000,000,000,000,000,000,000,000,000,000,000,000,000,000,000,000,000,000,000,000,000,000,000,000,000,000,000,000,000,000,000,000,000,000,000,000,000,000,000,000,000,000,000,000,000,000,000,000,000,000,000,000,000,000,000,000,000,000,000,000,000,000,000,000,000,000,000,000,000,000,000,000,000,000,000,000,000,000,000,000,000,000,000,000,000,000,000,000,000,000,000,000,000,000,000,000,000,000,000,000,000,000,000,000,000,000,000,000,000,000,000,000,000,000,000,000,000,000,000,000,000,000,000,000,000,000,000,000,000,000,000,000,000,000,000,000,000,000,000,000,000,000,000,000,000,000,000,000,000,000,000,000,000,000,000,000,000,000,000,000,000,000,000,000,000,000,000,000,000,000,000,000,000,000,000,000,000,000,000,000,000,000,000,000,000,000,000,000,000,000,000,000,000,000,000,000,000,000,000,000,000,000,000,000,000,000,000,000,000,000,000,000,000,000,000,000,000,000,000,000,000,000,000,000,000,000,000,000,000,000,000,000,000,000,000,000,000,000,000,000,000,000,000,000,000,000,000,000,000,000,000,000,000,000,000,000,000,000,000,000,000,000,000,000,000,000,000,000,000,000,000,000,000,000,000,000,000,000,000,000,000,000,000,000,000,000,000,000,000,000,000,000,000,000,000,000,000,000,000,000,000,000,000,000,000,000,000,000,000,000,000,000,000,000,000,000,000,000,000,000,000,000,000,000,000,000,000,000,000,000,000,000,000,000,000,000,000,000,000,000,000,000,000,000,000,000,000,000,000,000,000,000,000,000,000,000,000,000,000,000,000,000,000,000,000,000,000,000,000,000,000,000,000,000,000,000,000,000,000,000,000,000,000,000,000,000,000,000,000,000,000,000,000,000,000,000,000,000,000,000,000,000,000,000,000,000,000,000,000,000,000,000,000,000,000,000,000,000,000,000,000,000,000,000,000,000,000,000,000,000,000,000,000,000,000,000,000,000,000,000,000,000,000,000,000,000,000,000,000,000,000,000,000,000,000,000,000,000,000,000,000,000,000,000,000,000,000,000,000,000,000,000,000,000,000,000,000,000,000,000,000,000,000,000,000,000,000,000,000,000,000,000,000,000,000,000,000,000,000,000,000,000,000,000,000,000,000,000,000,000,000,000,000,000,000,000,000,000,000,000,000,000,000,000,000,000,000,000,000,000,000,000,000,000,000,000,000,000,000,000,000,000,000,000,000,000,000,000,000,000,000,000,000,000,000,000,000,000,000,000,000,000,000,000,000,000,000,000,000,000,000,000,000,000,000,000,000,000,000,000,000,000,000,000,000,000,000,000,000,000,000,000,000,000,000,000,000,000,000,000,000,000,000,000,000,000,000,000,000,000,000,000,000,000,000,000,000,000,000,000,000,000,000,000,000,000,000,000,000,000,000,000,000,000,000,000,000,000,000,000,000,000,000,000,000,000,000,000,000,000,000,000,000,000,000,'\n",
      " '000,000,000,000,000,000,000,000,000,000,000,000,000,000,000,000,000,000,000,000,000,000,000,000,000,000,000,000,000,000,000,000,000,000,000,000,000,000,000,000,000,000,000,000,000,000,000,000,000,000,000,000,000,000,000,000,000,000,000,000,000,000,000,000,000,000,000,000,000,000,000,000,000,000,000,000,000,000,000,000,000,000,000,000,000,000,000,000,000,000,000,000,000,000,000,000,000,000,000,000,000,000,000,000,000,000,000,000,000,000,000,000,000,000,000,000,000,000,000,000,000,000,000,000,000,000,000,000,000,000,000,000,000,000,000,000,000,000,000,000,000,000,000,000,000,000,000,000,000,000,000,000,000,000,000,000,000,000,000,000,000,000,000,000,000,000,000,000,000,000,000,000,000,000,000,000,000,000,000,000,000,000,000,000,000,000,000,000,000,000,000,000,000,000,000,000,000,000,000,000,000,000,000,000,000,000,000,000,000,000,000,000,000,000,000,000,000,000,000,000,000,000,000,000,000,000,000,000,000,000,000,000,000,000,000,000,000,000,000,000,000,000,000,000,000,000,000,000,000,000,000,000,000,000,000,000,000,000,000,000,000,000,000,000,000,000,000,000,000,000,000,000,000,000,000,000,000,000,000,000,000,000,000,000,000,000,000,000,000,000,000,000,000,000,000,000,000,000,000,000,000,000,000,000,000,000,000,000,000,000,000,000,000,000,000,000,000,000,000,000,000,000,000,000,000,000,000,000,000,000,000,000,000,000,000,000,000,000,000,000,000,000,000,000,000,000,000,000,000,000,000,000,000,000,000,000,000,000,000,000,000,000,000,000,000,000,000,000,000,000,000,000,000,000,000,000,000,000,000,000,000,000,000,000,000,000,000,000,000,000,000,000,000,000,000,000,000,000,000,000,000,000,000,000,000,000,000,000,000,000,000,000,000,000,000,000,000,000,000,000,000,000,000,000,000,000,000,000,000,000,000,000,000,000,000,000,000,000,000,000,000,000,000,000,000,000,000,000,000,000,000,000,000,000,000,000,000,000,000,000,000,000,000,000,000,000,000,000,000,000,000,000,000,000,000,000,000,000,000,000,000,000,000,000,000,000,000,000,000,000,000,000,000,000,000,000,000,000,000,000,000,000,000,000,000,000,000,000,000,000,000,000,000,000,000,000,000,000,000,000,000,000,000,000,000,000,000,000,000,000,000,000,000,000,000,000,000,000,000,000,000,000,000,000,000,000,000,000,000,000,000,000,000,000,000,000,000,000,000,000,000,000,000,000,000,000,000,000,000,000,000,000,000,000,000,000,000,000,000,000,000,000,000,000,000,000,000,000,000,000,000,000,000,000,000,000,000,000,000,000,000,000,000,000,000,000,000,000,000,000,000,000,000,000,000,000,000,000,000,000,000,000,000,000,000,000,000,000,000,000,000,000,000,000,000,000,000,000,000,000,000,000,000,000,000,000,000,000,000,000,000,000,000,000,000,000,000,000,000,000,000,000,000,000,000,000,000,000,000,000,000,000,000,000,000,000,000,000,000,000,000,000,000,000,000,000,000,000,000,000,000,000,000,000,000,000,000,000,000,000,000,000,000,000,000,000,000,000,000,000,000,000,000,000,000,000,000,000,000,000,000,000,000,000,000,000,000,000,000,000,000,000,000,000,000,000,000,000,000,000,000,000,000,000,000,000,000,000,000,000,000,000,000,000,000,000,000,000,000,000,000,000,000,000,000,000,000,000,000,000,000,000,000,000,000,000,000,000,000,000,000,000,000,000,000,000,000,000,000,000,000,000,000,000,000,000,000,000,000,000,000,000,000,000,000,000,000,000,000,000,000,000,000,000,000,000,000,000,000,000,000,000,000,000,000,000,000,000,000,000,000,000,000,000,000,000,000,000,000,000,000,000,000,000,000,000,000,000,000,000,000,000,000,000,000,000,000,000,000,000,000,000,000,000,000,000,000,000,000,000,000,000,000,000,000,000,000,000,000,000,000,000,000,000,000,000,000,000,000,000,000,000,000,000,000,000,000,000,000,000,000,000,000,000,000,000,000,000,000,000,000,000,000,000,000,000,000,000,000,000,000,000,000,000,000,000,000,000,000,000,000,000,000,000,000,000,000,000,000,000,000,000,000,000,000,000,000,000,000,000,000,000,000,000,000,000,000,000,000,000,000,000,000,000,000,000,000,000,000,000,000,000,000,000,000,000,000,000,000,000,000,000,000,000,000,000,000,000,000,000,000,000,000,000,000,000,000,000,000,000,000,000,000,000,000,000,000,000,000,000,000,000,000,000,000,000,000,000,000,000,000,000,000,000,'\n",
      " '000,000,000,000,000,000,000,000,000,000,000,000,000,000,000,000,000,000,000,000,000,000,000,000,000,000,000,000,000,000,000,000,000,000,000,000,000,000,000,000,000,000,000,000,000,000,000,000,000,000,000,000,000,000,000,000,000,000,000,000,000,000,000,000,000,000,000,000,000,000,000,000,000,000,000,000,000,000,000,000,000,000,000,000,000,000,000,000,000,000,000,000,000,000,000,000,000,000,000,000,000,000,000,000,000,000,000,000,000,000,000,000,000,000,000,000,000,000,000,000,000,000,000,000,000,000,000,000,000,000,000,000,000,000,000,000,000,000,000,000,000,000,000,000,000,000,000,000,000,000,000,000,000,000,000,000,000,000,000,000,000,000,000,000,000,000,000,000,000,000,000,000,000,000,000,000,000,000,000,000,000,000,000,000,000,000,000,000,000,000,000,000,000,000,000,000,000,000,000,000,000,000,000,000,000,000,000,000,000,000,000,000,000,000,000,000,000,000,000,000,000,000,000,000,000,000,000,000,000,000,000,000,000,000,000,000,000,000,000,000,000,000,000,000,000,000,000,000,000,000,000,000,000,000,000,000,000,000,000,000,000,000,000,000,000,000,000,000,000,000,000,000,000,000,000,000,000,000,000,000,000,000,000,000,000,000,000,000,000,000,000,000,000,000,000,000,000,000,000,000,000,000,000,000,000,000,000,000,000,000,000,000,000,000,000,000,000,000,000,000,000,000,000,000,000,000,000,000,000,000,000,000,000,000,000,000,000,000,000,000,000,000,000,000,000,000,000,000,000,000,000,000,000,000,000,000,000,000,000,000,000,000,000,000,000,000,000,000,000,000,000,000,000,000,000,000,000,000,000,000,000,000,000,000,000,000,000,000,000,000,000,000,000,000,000,000,000,000,000,000,000,000,000,000,000,000,000,000,000,000,000,000,000,000,000,000,000,000,000,000,000,000,000,000,000,000,000,000,000,000,000,000,000,000,000,000,000,000,000,000,000,000,000,000,000,000,000,000,000,000,000,000,000,000,000,000,000,000,000,000,000,000,000,000,000,000,000,000,000,000,000,000,000,000,000,000,000,000,000,000,000,000,000,000,000,000,000,000,000,000,000,000,000,000,000,000,000,000,000,000,000,000,000,000,000,000,000,000,000,000,000,000,000,000,000,000,000,000,000,000,000,000,000,000,000,000,000,000,000,000,000,000,000,000,000,000,000,000,000,000,000,000,000,000,000,000,000,000,000,000,000,000,000,000,000,000,000,000,000,000,000,000,000,000,000,000,000,000,000,000,000,000,000,000,000,000,000,000,000,000,000,000,000,000,000,000,000,000,000,000,000,000,000,000,000,000,000,000,000,000,000,000,000,000,000,000,000,000,000,000,000,000,000,000,000,000,000,000,000,000,000,000,000,000,000,000,000,000,000,000,000,000,000,000,000,000,000,000,000,000,000,000,000,000,000,000,000,000,000,000,000,000,000,000,000,000,000,000,000,000,000,000,000,000,000,000,000,000,000,000,000,000,000,000,000,000,000,000,000,000,000,000,000,000,000,000,000,000,000,000,000,000,000,000,000,000,000,000,000,000,000,000,000,000,000,000,000,000,000,000,000,000,000,000,000,000,000,000,000,000,000,000,000,000,000,000,000,000,000,000,000,000,000,000,000,000,000,000,000,000,000,000,000,000,000,000,000,000,000,000,000,000,000,000,000,000,000,000,000,000,000,000,000,000,000,000,000,000,000,000,000,000,000,000,000,000,000,000,000,000,000,000,000,000,000,000,000,000,000,000,000,000,000,000,000,000,000,000,000,000,000,000,000,000,000,000,000,000,000,000,000,000,000,000,000,000,000,000,000,000,000,000,000,000,000,000,000,000,000,000,000,000,000,000,000,000,000,000,000,000,000,000,000,000,000,000,000,000,000,000,000,000,000,000,000,000,000,000,000,000,000,000,000,000,000,000,000,000,000,000,000,000,000,000,000,000,000,000,000,000,000,000,000,000,000,000,000,000,000,000,000,000,000,000,000,000,000,000,000,000,000,000,000,000,000,000,000,000,000,000,000,000,000,000,000,000,000,000,000,000,000,000,000,000,000,000,000,000,000,000,000,000,000,000,000,000,000,000,000,000,000,000,000,000,000,000,000,000,000,000,000,000,000,000,000,000,000,000,000,000,000,000,000,000,000,000,000,000,000,000,000,000,000,000,000,000,000,000,000,000,000,000,000,000,000,000,000,000,000,000,000,000,000,000,000,000,000,000,000,000,000,000,000,000,000,000,000,000,000,000,000,000,000,000,000,000,000,000,000,000,000,000,000,000,']\n",
      "- Column 23 : ['0' '0' '0' '0' '0' '0']\n"
     ]
    }
   ],
   "source": [
    "print_df_random_n_rows(df_raw, n=6, with_column_names=False) "
   ]
  },
  {
   "cell_type": "markdown",
   "id": "9bcd37fe",
   "metadata": {},
   "source": [
    "Get the number of column :"
   ]
  },
  {
   "cell_type": "code",
   "execution_count": 31,
   "id": "bda213f2",
   "metadata": {},
   "outputs": [
    {
     "data": {
      "text/plain": [
       "24"
      ]
     },
     "execution_count": 31,
     "metadata": {},
     "output_type": "execute_result"
    }
   ],
   "source": [
    "len(df_raw.columns)"
   ]
  },
  {
   "cell_type": "markdown",
   "id": "abc743c2",
   "metadata": {},
   "source": [
    "Look at unique values for a single column :"
   ]
  },
  {
   "cell_type": "code",
   "execution_count": 14,
   "id": "527410fe",
   "metadata": {},
   "outputs": [
    {
     "name": "stdout",
     "output_type": "stream",
     "text": [
      " - Column 11 :\n",
      "      ['0824', '0906', '1363', '1397', '2921', '3203', '3326', '3816', '4465', '9999']\n"
     ]
    }
   ],
   "source": [
    "print_df_columns_unique_values(df_raw, column_indices=11, column_names=False)"
   ]
  },
  {
   "cell_type": "markdown",
   "id": "fb4f66f0",
   "metadata": {},
   "source": [
    "Look at unique values for a few columns :\n",
    "\n",
    "*Use column=indices=None to look a unique values for all columns*"
   ]
  },
  {
   "cell_type": "code",
   "execution_count": 15,
   "id": "d411d02c",
   "metadata": {},
   "outputs": [
    {
     "name": "stdout",
     "output_type": "stream",
     "text": [
      " - Column 10 :\n",
      "      ['-9.999', '02.669', '04.241', '04.745', '04.826', '04.879', '05.430', '06.095', '06.220', '07.415', '08.436', '08.489', '08.506', '08.724', '08.956', '09.079', '09.894', '10.057', '10.567', '11.705', '12.097', '12.390', '12.923', '13.114', '13.407', '13.684', '14.324', '15.060', '16.530', '16.636', '16.668', '17.194', '17.382', '17.829', '17.918', '18.334', '18.655', '19.526', '20.329', '21.134', '21.426', '23.098', '23.664', '23.760', '24.472', '25.473', '25.957', '29.270', '31.271', '32.255', '33.844', '36.196']\n",
      " - Column 11 :\n",
      "      ['0824', '0906', '1363', '1397', '2921', '3203', '3326', '3816', '4465', '9999']\n"
     ]
    }
   ],
   "source": [
    "print_df_columns_unique_values(df_raw, column_indices=slice(10, 12), column_names=False)"
   ]
  },
  {
   "cell_type": "markdown",
   "id": "3e7f26c8",
   "metadata": {},
   "source": [
    "Get the unique values as dictionnary"
   ]
  },
  {
   "cell_type": "code",
   "execution_count": 16,
   "id": "bad0ae2d",
   "metadata": {
    "collapsed": true
   },
   "outputs": [
    {
     "data": {
      "text/plain": [
       "{'Column 10': ['-9.999',\n",
       "  '02.669',\n",
       "  '04.241',\n",
       "  '04.745',\n",
       "  '04.826',\n",
       "  '04.879',\n",
       "  '05.430',\n",
       "  '06.095',\n",
       "  '06.220',\n",
       "  '07.415',\n",
       "  '08.436',\n",
       "  '08.489',\n",
       "  '08.506',\n",
       "  '08.724',\n",
       "  '08.956',\n",
       "  '09.079',\n",
       "  '09.894',\n",
       "  '10.057',\n",
       "  '10.567',\n",
       "  '11.705',\n",
       "  '12.097',\n",
       "  '12.390',\n",
       "  '12.923',\n",
       "  '13.114',\n",
       "  '13.407',\n",
       "  '13.684',\n",
       "  '14.324',\n",
       "  '15.060',\n",
       "  '16.530',\n",
       "  '16.636',\n",
       "  '16.668',\n",
       "  '17.194',\n",
       "  '17.382',\n",
       "  '17.829',\n",
       "  '17.918',\n",
       "  '18.334',\n",
       "  '18.655',\n",
       "  '19.526',\n",
       "  '20.329',\n",
       "  '21.134',\n",
       "  '21.426',\n",
       "  '23.098',\n",
       "  '23.664',\n",
       "  '23.760',\n",
       "  '24.472',\n",
       "  '25.473',\n",
       "  '25.957',\n",
       "  '29.270',\n",
       "  '31.271',\n",
       "  '32.255',\n",
       "  '33.844',\n",
       "  '36.196'],\n",
       " 'Column 11': ['0824',\n",
       "  '0906',\n",
       "  '1363',\n",
       "  '1397',\n",
       "  '2921',\n",
       "  '3203',\n",
       "  '3326',\n",
       "  '3816',\n",
       "  '4465',\n",
       "  '9999']}"
      ]
     },
     "execution_count": 16,
     "metadata": {},
     "output_type": "execute_result"
    }
   ],
   "source": [
    "get_df_columns_unique_values_dict(df_raw, column_indices=slice(10, 12), column_names=False)"
   ]
  },
  {
   "cell_type": "markdown",
   "id": "a80244e9",
   "metadata": {},
   "source": [
    "**7. Columns name**\n",
    "\n",
    "Now we have validated the content of our data. It's time to care about its structure (columns name). "
   ]
  },
  {
   "cell_type": "markdown",
   "id": "b9bd33ea",
   "metadata": {},
   "source": [
    "The function `infer_df_str_column_names()` tries to guess the column name based on string patterns (according to `L0A_encodings.yml` and the type of sensor.)"
   ]
  },
  {
   "cell_type": "code",
   "execution_count": 32,
   "id": "f5ac9e68",
   "metadata": {
    "collapsed": true
   },
   "outputs": [
    {
     "data": {
      "text/plain": [
       "{0: [],\n",
       " 1: [],\n",
       " 2: [],\n",
       " 3: [],\n",
       " 4: [],\n",
       " 5: [],\n",
       " 6: ['rainfall_rate_32bit'],\n",
       " 7: ['rainfall_accumulated_32bit'],\n",
       " 8: ['weather_code_synop_4677', 'weather_code_synop_4680'],\n",
       " 9: ['weather_code_synop_4677', 'weather_code_synop_4680'],\n",
       " 10: ['reflectivity_32bit'],\n",
       " 11: ['mor_visibility'],\n",
       " 12: ['number_particles', 'laser_amplitude'],\n",
       " 13: ['number_particles', 'laser_amplitude'],\n",
       " 14: ['sensor_temperature', 'error_code'],\n",
       " 15: ['sensor_heating_current'],\n",
       " 16: ['sensor_battery_voltage'],\n",
       " 17: ['sensor_status'],\n",
       " 18: ['rainfall_amount_absolute_32bit'],\n",
       " 19: ['sensor_temperature', 'error_code'],\n",
       " 20: ['raw_drop_average_velocity', 'raw_drop_concentration'],\n",
       " 21: ['raw_drop_average_velocity', 'raw_drop_concentration'],\n",
       " 22: ['raw_drop_number'],\n",
       " 23: ['sensor_status']}"
      ]
     },
     "execution_count": 32,
     "metadata": {},
     "output_type": "execute_result"
    }
   ],
   "source": [
    "infer_df_str_column_names(df_raw, sensor_name=sensor_name)"
   ]
  },
  {
   "cell_type": "markdown",
   "id": "51eb0f40",
   "metadata": {},
   "source": [
    "This can help us to define later define the columns name.\n",
    "\n",
    "As reference, here is the list of valid columns name (taken from `L0A_encodings.yml`):"
   ]
  },
  {
   "cell_type": "code",
   "execution_count": 18,
   "id": "3f6915d5",
   "metadata": {
    "collapsed": true
   },
   "outputs": [
    {
     "name": "stdout",
     "output_type": "stream",
     "text": [
      "['rainfall_rate_32bit', 'rainfall_accumulated_32bit', 'weather_code_synop_4680', 'weather_code_synop_4677', 'weather_code_metar_4678', 'weather_code_nws', 'reflectivity_32bit', 'mor_visibility', 'sample_interval', 'laser_amplitude', 'number_particles', 'sensor_temperature', 'sensor_serial_number', 'firmware_iop', 'firmware_dsp', 'sensor_heating_current', 'sensor_battery_voltage', 'sensor_status', 'start_time', 'sensor_time', 'sensor_date', 'station_name', 'station_number', 'rainfall_amount_absolute_32bit', 'error_code', 'rainfall_rate_16bit', 'rainfall_rate_12bit', 'rainfall_accumulated_16bit', 'reflectivity_16bit', 'raw_drop_concentration', 'raw_drop_average_velocity', 'raw_drop_number']\n"
     ]
    }
   ],
   "source": [
    "print_valid_L0_column_names(sensor_name)"
   ]
  },
  {
   "cell_type": "markdown",
   "id": "ee571ddd",
   "metadata": {},
   "source": [
    "It's time now to define our current column names : \n",
    "\n",
    "Hint to define the names :\n",
    "* get information from the disdrometer user guide. \n",
    "* use `infer_df_str_column_names()` to help you\n",
    "* analyse the content column after column with `print_df_columns_unique_values()`  "
   ]
  },
  {
   "cell_type": "code",
   "execution_count": 34,
   "id": "d8da8175",
   "metadata": {},
   "outputs": [],
   "source": [
    "column_names = [\n",
    "    \"unknown1\",\n",
    "    \"unknown2\",\n",
    "    \"unknown3\",\n",
    "    \"time\",\n",
    "    \"unknown4\",\n",
    "    \"unknown5\",\n",
    "    \"rainfall_rate_32bit\",\n",
    "    \"rainfall_accumulated_32bit\",\n",
    "    \"weather_code_synop_4680\",\n",
    "    \"weather_code_synop_4677\",\n",
    "    \"reflectivity_32bit\",\n",
    "    \"mor_visibility\",\n",
    "    \"laser_amplitude\",\n",
    "    \"number_particles\",\n",
    "    \"sensor_temperature\",\n",
    "    \"sensor_heating_current\",\n",
    "    \"sensor_battery_voltage\",\n",
    "    \"sensor_status\",\n",
    "    \"rainfall_amount_absolute_32bit\",\n",
    "    \"error_code\",\n",
    "    \"raw_drop_concentration\",\n",
    "    \"raw_drop_average_velocity\",\n",
    "    \"raw_drop_number\",\n",
    "    \"unknown6\",\n",
    "]"
   ]
  },
  {
   "cell_type": "markdown",
   "id": "e6535a62",
   "metadata": {},
   "source": [
    "> 🚨 The `column_names` list will be transferred  to the reader at the end of this notebook. "
   ]
  },
  {
   "cell_type": "markdown",
   "id": "c38f2db4",
   "metadata": {},
   "source": [
    "Check the validity of your definition "
   ]
  },
  {
   "cell_type": "code",
   "execution_count": 35,
   "id": "c62beaae",
   "metadata": {},
   "outputs": [
    {
     "name": "stdout",
     "output_type": "stream",
     "text": [
      "The following columns do no met the DISDRODB standards: ['unknown3', 'unknown4', 'unknown1', 'unknown6', 'unknown5', 'unknown2'].\n",
      "Please remove such columns within the df_sanitizer_fun\n"
     ]
    }
   ],
   "source": [
    "check_column_names(column_names,sensor_name)"
   ]
  },
  {
   "cell_type": "markdown",
   "id": "d3b0ed10",
   "metadata": {},
   "source": [
    "Ok, fair enough. As mentioned in the error message, the unknown columns will be removed later."
   ]
  },
  {
   "cell_type": "markdown",
   "id": "7b09a140",
   "metadata": {},
   "source": [
    "**8. Read the dataframe with correct columns name**\n",
    "\n",
    "We can now create a new dataframe with the columns name :"
   ]
  },
  {
   "cell_type": "code",
   "execution_count": 38,
   "id": "420ec399",
   "metadata": {},
   "outputs": [],
   "source": [
    "df = read_raw_data(filepath=filepath,column_names=column_names,reader_kwargs=reader_kwargs,lazy=False)"
   ]
  },
  {
   "cell_type": "markdown",
   "id": "fc683d8c",
   "metadata": {},
   "source": [
    "And print the dataframe column names : "
   ]
  },
  {
   "cell_type": "code",
   "execution_count": 39,
   "id": "48bdbe0d",
   "metadata": {
    "collapsed": true
   },
   "outputs": [
    {
     "name": "stdout",
     "output_type": "stream",
     "text": [
      " - Column 0 : unknown1\n",
      " - Column 1 : unknown2\n",
      " - Column 2 : unknown3\n",
      " - Column 3 : time\n",
      " - Column 4 : unknown4\n",
      " - Column 5 : unknown5\n",
      " - Column 6 : rainfall_rate_32bit\n",
      " - Column 7 : rainfall_accumulated_32bit\n",
      " - Column 8 : weather_code_synop_4680\n",
      " - Column 9 : weather_code_synop_4677\n",
      " - Column 10 : reflectivity_32bit\n",
      " - Column 11 : mor_visibility\n",
      " - Column 12 : laser_amplitude\n",
      " - Column 13 : number_particles\n",
      " - Column 14 : sensor_temperature\n",
      " - Column 15 : sensor_heating_current\n",
      " - Column 16 : sensor_battery_voltage\n",
      " - Column 17 : sensor_status\n",
      " - Column 18 : rainfall_amount_absolute_32bit\n",
      " - Column 19 : error_code\n",
      " - Column 20 : raw_drop_concentration\n",
      " - Column 21 : raw_drop_average_velocity\n",
      " - Column 22 : raw_drop_number\n",
      " - Column 23 : unknown6\n"
     ]
    }
   ],
   "source": [
    "print_df_column_names(df)"
   ]
  },
  {
   "cell_type": "markdown",
   "id": "e8b271c2",
   "metadata": {},
   "source": [
    "Check if the lazily loading (dask) is correct :"
   ]
  },
  {
   "cell_type": "code",
   "execution_count": 40,
   "id": "6cc232b9",
   "metadata": {},
   "outputs": [],
   "source": [
    "df_dask = read_raw_data(filepath=filepath, column_names=column_names, reader_kwargs=reader_kwargs, lazy=True)\n",
    "df_dask = df_dask.compute()"
   ]
  },
  {
   "cell_type": "markdown",
   "id": "6e499162",
   "metadata": {},
   "source": [
    "And print the dataframe column names : "
   ]
  },
  {
   "cell_type": "code",
   "execution_count": 41,
   "id": "8636d830",
   "metadata": {
    "collapsed": true
   },
   "outputs": [
    {
     "name": "stdout",
     "output_type": "stream",
     "text": [
      " - Column 0 : unknown1\n",
      " - Column 1 : unknown2\n",
      " - Column 2 : unknown3\n",
      " - Column 3 : time\n",
      " - Column 4 : unknown4\n",
      " - Column 5 : unknown5\n",
      " - Column 6 : rainfall_rate_32bit\n",
      " - Column 7 : rainfall_accumulated_32bit\n",
      " - Column 8 : weather_code_synop_4680\n",
      " - Column 9 : weather_code_synop_4677\n",
      " - Column 10 : reflectivity_32bit\n",
      " - Column 11 : mor_visibility\n",
      " - Column 12 : laser_amplitude\n",
      " - Column 13 : number_particles\n",
      " - Column 14 : sensor_temperature\n",
      " - Column 15 : sensor_heating_current\n",
      " - Column 16 : sensor_battery_voltage\n",
      " - Column 17 : sensor_status\n",
      " - Column 18 : rainfall_amount_absolute_32bit\n",
      " - Column 19 : error_code\n",
      " - Column 20 : raw_drop_concentration\n",
      " - Column 21 : raw_drop_average_velocity\n",
      " - Column 22 : raw_drop_number\n",
      " - Column 23 : unknown6\n"
     ]
    }
   ],
   "source": [
    "print_df_column_names(df_dask)"
   ]
  },
  {
   "cell_type": "markdown",
   "id": "fe859959",
   "metadata": {},
   "source": [
    "We can now verify that the pandas and the dask reading are similar "
   ]
  },
  {
   "cell_type": "code",
   "execution_count": 42,
   "id": "9a2e9fbe",
   "metadata": {},
   "outputs": [],
   "source": [
    "assert df.equals(df_dask)"
   ]
  },
  {
   "cell_type": "markdown",
   "id": "2569fd39",
   "metadata": {},
   "source": [
    "We can get some statistics for the `rainfall_rate_32bit`, but feel free to change it"
   ]
  },
  {
   "cell_type": "markdown",
   "id": "0c4ed764",
   "metadata": {},
   "source": [
    "**9. Run somme tests and analysis**"
   ]
  },
  {
   "cell_type": "markdown",
   "id": "6ac65a5e",
   "metadata": {},
   "source": [
    "This must be done once that `reader_kwargs` and `column_names` are correctly defined"
   ]
  },
  {
   "cell_type": "markdown",
   "id": "ef29dee4",
   "metadata": {},
   "source": [
    "Input some statistics on columns : "
   ]
  },
  {
   "cell_type": "code",
   "execution_count": 45,
   "id": "70d6d604",
   "metadata": {},
   "outputs": [
    {
     "name": "stdout",
     "output_type": "stream",
     "text": [
      " - Column 0 ( rainfall_rate_32bit ):\n",
      "                    \n",
      "mean  0.005426\n",
      "min   0.000000\n",
      "25%   0.000000\n",
      "50%   0.000000\n",
      "75%   0.000000\n",
      "max   2.881000\n"
     ]
    }
   ],
   "source": [
    "stats = df.loc[:, [\"rainfall_rate_32bit\"]]\n",
    "stats = stats.astype('float')\n",
    "\n",
    "print_df_summary_stats(stats)"
   ]
  },
  {
   "cell_type": "markdown",
   "id": "a3cb264a",
   "metadata": {},
   "source": [
    "Check if the file is empty : "
   ]
  },
  {
   "cell_type": "code",
   "execution_count": 46,
   "id": "11e41383",
   "metadata": {},
   "outputs": [],
   "source": [
    "if len(df.index) == 0:\n",
    "    raise ValueError(f\"{filepath} is empty and has been skipped.\")"
   ]
  },
  {
   "cell_type": "markdown",
   "id": "18fe7e38",
   "metadata": {},
   "source": [
    "Check the number of columns :"
   ]
  },
  {
   "cell_type": "code",
   "execution_count": 47,
   "id": "eb5255a6",
   "metadata": {},
   "outputs": [],
   "source": [
    "if len(df.columns) != len(column_names):\n",
    "    raise ValueError(f\"{filepath} has wrong columns number, and has been skipped.\")"
   ]
  },
  {
   "cell_type": "markdown",
   "id": "f8ddb5da",
   "metadata": {},
   "source": [
    "**10. Final columns formatting**"
   ]
  },
  {
   "cell_type": "markdown",
   "id": "4ba315b6",
   "metadata": {},
   "source": [
    "It's time now to remove all the columns that does not match the standard."
   ]
  },
  {
   "cell_type": "code",
   "execution_count": 48,
   "id": "d07edf3e",
   "metadata": {},
   "outputs": [],
   "source": [
    "df = df.drop(columns=[\"unknown1\", \"unknown2\", \"unknown3\",\"unknown4\",'unknown5','unknown6'])"
   ]
  },
  {
   "cell_type": "code",
   "execution_count": 49,
   "id": "34ef96b8",
   "metadata": {},
   "outputs": [],
   "source": [
    "df[\"time\"] = pd.to_datetime(df[\"time\"], format=\"%m-%d-%Y %H:%M:%S\")"
   ]
  },
  {
   "cell_type": "markdown",
   "id": "89f5cfef",
   "metadata": {},
   "source": [
    "Check column names met DISDRODB standards after custom processing :"
   ]
  },
  {
   "cell_type": "code",
   "execution_count": 50,
   "id": "fd4bafb0",
   "metadata": {},
   "outputs": [],
   "source": [
    "check_L0A_column_names(df, sensor_name=sensor_name)"
   ]
  },
  {
   "cell_type": "markdown",
   "id": "b7c34a86",
   "metadata": {},
   "source": [
    " Determine dtype based on standards :"
   ]
  },
  {
   "cell_type": "code",
   "execution_count": 51,
   "id": "5bd67e3a",
   "metadata": {},
   "outputs": [],
   "source": [
    "df = cast_column_dtypes(df, sensor_name=sensor_name)"
   ]
  },
  {
   "cell_type": "markdown",
   "id": "e3d101a5",
   "metadata": {},
   "source": [
    "Check the dataframe looks as desired :"
   ]
  },
  {
   "cell_type": "code",
   "execution_count": 52,
   "id": "04ea8302",
   "metadata": {},
   "outputs": [
    {
     "name": "stdout",
     "output_type": "stream",
     "text": [
      " - Column 0 : time\n",
      " - Column 1 : rainfall_rate_32bit\n",
      " - Column 2 : rainfall_accumulated_32bit\n",
      " - Column 3 : weather_code_synop_4680\n",
      " - Column 4 : weather_code_synop_4677\n",
      " - Column 5 : reflectivity_32bit\n",
      " - Column 6 : mor_visibility\n",
      " - Column 7 : laser_amplitude\n",
      " - Column 8 : number_particles\n",
      " - Column 9 : sensor_temperature\n",
      " - Column 10 : sensor_heating_current\n",
      " - Column 11 : sensor_battery_voltage\n",
      " - Column 12 : sensor_status\n",
      " - Column 13 : rainfall_amount_absolute_32bit\n",
      " - Column 14 : error_code\n",
      " - Column 15 : raw_drop_concentration\n",
      " - Column 16 : raw_drop_average_velocity\n",
      " - Column 17 : raw_drop_number\n"
     ]
    }
   ],
   "source": [
    "print_df_column_names(df)"
   ]
  },
  {
   "cell_type": "code",
   "execution_count": 53,
   "id": "420b7579",
   "metadata": {
    "collapsed": true
   },
   "outputs": [
    {
     "name": "stdout",
     "output_type": "stream",
     "text": [
      "- Column 0 (time) : ['2018-01-08T19:45:31.000000000' '2018-02-08T22:22:01.000000000'\n",
      " '2018-02-08T19:51:31.000000000' '2018-02-08T17:38:01.000000000'\n",
      " '2018-02-08T03:10:30.000000000']\n",
      "- Column 1 (rainfall_rate_32bit) : [0. 0. 0. 0. 0.]\n",
      "- Column 2 (rainfall_accumulated_32bit) : [56.67 56.71 56.71 56.71 56.67]\n",
      "- Column 3 (weather_code_synop_4680) : [0 0 0 0 0]\n",
      "- Column 4 (weather_code_synop_4677) : [0 0 0 0 0]\n",
      "- Column 5 (reflectivity_32bit) : [-9.999 -9.999 -9.999 -9.999 -9.999]\n",
      "- Column 6 (mor_visibility) : [9999 9999 9999 9999 9999]\n",
      "- Column 7 (laser_amplitude) : [12507 12213 12471 12476 12577]\n",
      "- Column 8 (number_particles) : [0 0 0 0 0]\n",
      "- Column 9 (sensor_temperature) : [18 17 18 20 17]\n",
      "- Column 10 (sensor_heating_current) : [0.06 0.06 0.06 0.06 0.06]\n",
      "- Column 11 (sensor_battery_voltage) : [24.9 24.9 24.9 24.9 24.9]\n",
      "- Column 12 (sensor_status) : [0 0 0 0 0]\n",
      "- Column 13 (rainfall_amount_absolute_32bit) : [5.667 5.671 5.671 5.671 5.667]\n",
      "- Column 14 (error_code) : [0 0 0 0 0]\n",
      "- Column 15 (raw_drop_concentration) : ['-9.999,-9.999,-9.999,-9.999,-9.999,-9.999,-9.999,-9.999,-9.999,-9.999,-9.999,-9.999,-9.999,-9.999,-9.999,-9.999,-9.999,-9.999,-9.999,-9.999,-9.999,-9.999,-9.999,-9.999,-9.999,-9.999,-9.999,-9.999,-9.999,-9.999,-9.999,-9.999,'\n",
      " '-9.999,-9.999,-9.999,-9.999,-9.999,-9.999,-9.999,-9.999,-9.999,-9.999,-9.999,-9.999,-9.999,-9.999,-9.999,-9.999,-9.999,-9.999,-9.999,-9.999,-9.999,-9.999,-9.999,-9.999,-9.999,-9.999,-9.999,-9.999,-9.999,-9.999,-9.999,-9.999,'\n",
      " '-9.999,-9.999,-9.999,-9.999,-9.999,-9.999,-9.999,-9.999,-9.999,-9.999,-9.999,-9.999,-9.999,-9.999,-9.999,-9.999,-9.999,-9.999,-9.999,-9.999,-9.999,-9.999,-9.999,-9.999,-9.999,-9.999,-9.999,-9.999,-9.999,-9.999,-9.999,-9.999,'\n",
      " '-9.999,-9.999,-9.999,-9.999,-9.999,-9.999,-9.999,-9.999,-9.999,-9.999,-9.999,-9.999,-9.999,-9.999,-9.999,-9.999,-9.999,-9.999,-9.999,-9.999,-9.999,-9.999,-9.999,-9.999,-9.999,-9.999,-9.999,-9.999,-9.999,-9.999,-9.999,-9.999,'\n",
      " '-9.999,-9.999,-9.999,-9.999,-9.999,-9.999,-9.999,-9.999,-9.999,-9.999,-9.999,-9.999,-9.999,-9.999,-9.999,-9.999,-9.999,-9.999,-9.999,-9.999,-9.999,-9.999,-9.999,-9.999,-9.999,-9.999,-9.999,-9.999,-9.999,-9.999,-9.999,-9.999,']\n",
      "- Column 16 (raw_drop_average_velocity) : ['00.000,00.000,00.000,00.000,00.000,00.000,00.000,00.000,00.000,00.000,00.000,00.000,00.000,00.000,00.000,00.000,00.000,00.000,00.000,00.000,00.000,00.000,00.000,00.000,00.000,00.000,00.000,00.000,00.000,00.000,00.000,00.000,'\n",
      " '00.000,00.000,00.000,00.000,00.000,00.000,00.000,00.000,00.000,00.000,00.000,00.000,00.000,00.000,00.000,00.000,00.000,00.000,00.000,00.000,00.000,00.000,00.000,00.000,00.000,00.000,00.000,00.000,00.000,00.000,00.000,00.000,'\n",
      " '00.000,00.000,00.000,00.000,00.000,00.000,00.000,00.000,00.000,00.000,00.000,00.000,00.000,00.000,00.000,00.000,00.000,00.000,00.000,00.000,00.000,00.000,00.000,00.000,00.000,00.000,00.000,00.000,00.000,00.000,00.000,00.000,'\n",
      " '00.000,00.000,00.000,00.000,00.000,00.000,00.000,00.000,00.000,00.000,00.000,00.000,00.000,00.000,00.000,00.000,00.000,00.000,00.000,00.000,00.000,00.000,00.000,00.000,00.000,00.000,00.000,00.000,00.000,00.000,00.000,00.000,'\n",
      " '00.000,00.000,00.000,00.000,00.000,00.000,00.000,00.000,00.000,00.000,00.000,00.000,00.000,00.000,00.000,00.000,00.000,00.000,00.000,00.000,00.000,00.000,00.000,00.000,00.000,00.000,00.000,00.000,00.000,00.000,00.000,00.000,']\n",
      "- Column 17 (raw_drop_number) : ['000,000,000,000,000,000,000,000,000,000,000,000,000,000,000,000,000,000,000,000,000,000,000,000,000,000,000,000,000,000,000,000,000,000,000,000,000,000,000,000,000,000,000,000,000,000,000,000,000,000,000,000,000,000,000,000,000,000,000,000,000,000,000,000,000,000,000,000,000,000,000,000,000,000,000,000,000,000,000,000,000,000,000,000,000,000,000,000,000,000,000,000,000,000,000,000,000,000,000,000,000,000,000,000,000,000,000,000,000,000,000,000,000,000,000,000,000,000,000,000,000,000,000,000,000,000,000,000,000,000,000,000,000,000,000,000,000,000,000,000,000,000,000,000,000,000,000,000,000,000,000,000,000,000,000,000,000,000,000,000,000,000,000,000,000,000,000,000,000,000,000,000,000,000,000,000,000,000,000,000,000,000,000,000,000,000,000,000,000,000,000,000,000,000,000,000,000,000,000,000,000,000,000,000,000,000,000,000,000,000,000,000,000,000,000,000,000,000,000,000,000,000,000,000,000,000,000,000,000,000,000,000,000,000,000,000,000,000,000,000,000,000,000,000,000,000,000,000,000,000,000,000,000,000,000,000,000,000,000,000,000,000,000,000,000,000,000,000,000,000,000,000,000,000,000,000,000,000,000,000,000,000,000,000,000,000,000,000,000,000,000,000,000,000,000,000,000,000,000,000,000,000,000,000,000,000,000,000,000,000,000,000,000,000,000,000,000,000,000,000,000,000,000,000,000,000,000,000,000,000,000,000,000,000,000,000,000,000,000,000,000,000,000,000,000,000,000,000,000,000,000,000,000,000,000,000,000,000,000,000,000,000,000,000,000,000,000,000,000,000,000,000,000,000,000,000,000,000,000,000,000,000,000,000,000,000,000,000,000,000,000,000,000,000,000,000,000,000,000,000,000,000,000,000,000,000,000,000,000,000,000,000,000,000,000,000,000,000,000,000,000,000,000,000,000,000,000,000,000,000,000,000,000,000,000,000,000,000,000,000,000,000,000,000,000,000,000,000,000,000,000,000,000,000,000,000,000,000,000,000,000,000,000,000,000,000,000,000,000,000,000,000,000,000,000,000,000,000,000,000,000,000,000,000,000,000,000,000,000,000,000,000,000,000,000,000,000,000,000,000,000,000,000,000,000,000,000,000,000,000,000,000,000,000,000,000,000,000,000,000,000,000,000,000,000,000,000,000,000,000,000,000,000,000,000,000,000,000,000,000,000,000,000,000,000,000,000,000,000,000,000,000,000,000,000,000,000,000,000,000,000,000,000,000,000,000,000,000,000,000,000,000,000,000,000,000,000,000,000,000,000,000,000,000,000,000,000,000,000,000,000,000,000,000,000,000,000,000,000,000,000,000,000,000,000,000,000,000,000,000,000,000,000,000,000,000,000,000,000,000,000,000,000,000,000,000,000,000,000,000,000,000,000,000,000,000,000,000,000,000,000,000,000,000,000,000,000,000,000,000,000,000,000,000,000,000,000,000,000,000,000,000,000,000,000,000,000,000,000,000,000,000,000,000,000,000,000,000,000,000,000,000,000,000,000,000,000,000,000,000,000,000,000,000,000,000,000,000,000,000,000,000,000,000,000,000,000,000,000,000,000,000,000,000,000,000,000,000,000,000,000,000,000,000,000,000,000,000,000,000,000,000,000,000,000,000,000,000,000,000,000,000,000,000,000,000,000,000,000,000,000,000,000,000,000,000,000,000,000,000,000,000,000,000,000,000,000,000,000,000,000,000,000,000,000,000,000,000,000,000,000,000,000,000,000,000,000,000,000,000,000,000,000,000,000,000,000,000,000,000,000,000,000,000,000,000,000,000,000,000,000,000,000,000,000,000,000,000,000,000,000,000,000,000,000,000,000,000,000,000,000,000,000,000,000,000,000,000,000,000,000,000,000,000,000,000,000,000,000,000,000,000,000,000,000,000,000,000,000,000,000,000,000,000,000,000,000,000,000,000,000,000,000,000,000,000,000,000,000,000,000,000,000,000,000,000,000,000,000,000,000,000,000,000,000,000,000,000,000,000,000,000,000,000,000,000,000,000,000,000,000,000,000,000,000,000,000,000,000,000,000,000,000,000,000,000,000,000,000,000,000,000,000,000,000,000,000,000,000,000,000,000,000,000,000,000,000,000,000,000,000,000,000,000,000,000,000,000,000,000,000,000,000,000,000,000,000,000,000,000,000,000,000,000,000,000,000,000,000,000,000,000,000,000,000,000,000,000,000,000,000,000,000,000,000,000,000,000,000,000,000,000,000,000,000,000,000,000,000,000,000,000,000,000,000,000,000,000,000,000,000,000,000,000,'\n",
      " '000,000,000,000,000,000,000,000,000,000,000,000,000,000,000,000,000,000,000,000,000,000,000,000,000,000,000,000,000,000,000,000,000,000,000,000,000,000,000,000,000,000,000,000,000,000,000,000,000,000,000,000,000,000,000,000,000,000,000,000,000,000,000,000,000,000,000,000,000,000,000,000,000,000,000,000,000,000,000,000,000,000,000,000,000,000,000,000,000,000,000,000,000,000,000,000,000,000,000,000,000,000,000,000,000,000,000,000,000,000,000,000,000,000,000,000,000,000,000,000,000,000,000,000,000,000,000,000,000,000,000,000,000,000,000,000,000,000,000,000,000,000,000,000,000,000,000,000,000,000,000,000,000,000,000,000,000,000,000,000,000,000,000,000,000,000,000,000,000,000,000,000,000,000,000,000,000,000,000,000,000,000,000,000,000,000,000,000,000,000,000,000,000,000,000,000,000,000,000,000,000,000,000,000,000,000,000,000,000,000,000,000,000,000,000,000,000,000,000,000,000,000,000,000,000,000,000,000,000,000,000,000,000,000,000,000,000,000,000,000,000,000,000,000,000,000,000,000,000,000,000,000,000,000,000,000,000,000,000,000,000,000,000,000,000,000,000,000,000,000,000,000,000,000,000,000,000,000,000,000,000,000,000,000,000,000,000,000,000,000,000,000,000,000,000,000,000,000,000,000,000,000,000,000,000,000,000,000,000,000,000,000,000,000,000,000,000,000,000,000,000,000,000,000,000,000,000,000,000,000,000,000,000,000,000,000,000,000,000,000,000,000,000,000,000,000,000,000,000,000,000,000,000,000,000,000,000,000,000,000,000,000,000,000,000,000,000,000,000,000,000,000,000,000,000,000,000,000,000,000,000,000,000,000,000,000,000,000,000,000,000,000,000,000,000,000,000,000,000,000,000,000,000,000,000,000,000,000,000,000,000,000,000,000,000,000,000,000,000,000,000,000,000,000,000,000,000,000,000,000,000,000,000,000,000,000,000,000,000,000,000,000,000,000,000,000,000,000,000,000,000,000,000,000,000,000,000,000,000,000,000,000,000,000,000,000,000,000,000,000,000,000,000,000,000,000,000,000,000,000,000,000,000,000,000,000,000,000,000,000,000,000,000,000,000,000,000,000,000,000,000,000,000,000,000,000,000,000,000,000,000,000,000,000,000,000,000,000,000,000,000,000,000,000,000,000,000,000,000,000,000,000,000,000,000,000,000,000,000,000,000,000,000,000,000,000,000,000,000,000,000,000,000,000,000,000,000,000,000,000,000,000,000,000,000,000,000,000,000,000,000,000,000,000,000,000,000,000,000,000,000,000,000,000,000,000,000,000,000,000,000,000,000,000,000,000,000,000,000,000,000,000,000,000,000,000,000,000,000,000,000,000,000,000,000,000,000,000,000,000,000,000,000,000,000,000,000,000,000,000,000,000,000,000,000,000,000,000,000,000,000,000,000,000,000,000,000,000,000,000,000,000,000,000,000,000,000,000,000,000,000,000,000,000,000,000,000,000,000,000,000,000,000,000,000,000,000,000,000,000,000,000,000,000,000,000,000,000,000,000,000,000,000,000,000,000,000,000,000,000,000,000,000,000,000,000,000,000,000,000,000,000,000,000,000,000,000,000,000,000,000,000,000,000,000,000,000,000,000,000,000,000,000,000,000,000,000,000,000,000,000,000,000,000,000,000,000,000,000,000,000,000,000,000,000,000,000,000,000,000,000,000,000,000,000,000,000,000,000,000,000,000,000,000,000,000,000,000,000,000,000,000,000,000,000,000,000,000,000,000,000,000,000,000,000,000,000,000,000,000,000,000,000,000,000,000,000,000,000,000,000,000,000,000,000,000,000,000,000,000,000,000,000,000,000,000,000,000,000,000,000,000,000,000,000,000,000,000,000,000,000,000,000,000,000,000,000,000,000,000,000,000,000,000,000,000,000,000,000,000,000,000,000,000,000,000,000,000,000,000,000,000,000,000,000,000,000,000,000,000,000,000,000,000,000,000,000,000,000,000,000,000,000,000,000,000,000,000,000,000,000,000,000,000,000,000,000,000,000,000,000,000,000,000,000,000,000,000,000,000,000,000,000,000,000,000,000,000,000,000,000,000,000,000,000,000,000,000,000,000,000,000,000,000,000,000,000,000,000,000,000,000,000,000,000,000,000,000,000,000,000,000,000,000,000,000,000,000,000,000,000,000,000,000,000,000,000,000,000,000,000,000,000,000,000,000,000,000,000,000,000,000,000,000,000,000,000,000,000,000,000,000,000,000,000,000,000,000,000,000,000,000,000,000,000,000,000,000,000,000,000,000,000,000,'\n",
      " '000,000,000,000,000,000,000,000,000,000,000,000,000,000,000,000,000,000,000,000,000,000,000,000,000,000,000,000,000,000,000,000,000,000,000,000,000,000,000,000,000,000,000,000,000,000,000,000,000,000,000,000,000,000,000,000,000,000,000,000,000,000,000,000,000,000,000,000,000,000,000,000,000,000,000,000,000,000,000,000,000,000,000,000,000,000,000,000,000,000,000,000,000,000,000,000,000,000,000,000,000,000,000,000,000,000,000,000,000,000,000,000,000,000,000,000,000,000,000,000,000,000,000,000,000,000,000,000,000,000,000,000,000,000,000,000,000,000,000,000,000,000,000,000,000,000,000,000,000,000,000,000,000,000,000,000,000,000,000,000,000,000,000,000,000,000,000,000,000,000,000,000,000,000,000,000,000,000,000,000,000,000,000,000,000,000,000,000,000,000,000,000,000,000,000,000,000,000,000,000,000,000,000,000,000,000,000,000,000,000,000,000,000,000,000,000,000,000,000,000,000,000,000,000,000,000,000,000,000,000,000,000,000,000,000,000,000,000,000,000,000,000,000,000,000,000,000,000,000,000,000,000,000,000,000,000,000,000,000,000,000,000,000,000,000,000,000,000,000,000,000,000,000,000,000,000,000,000,000,000,000,000,000,000,000,000,000,000,000,000,000,000,000,000,000,000,000,000,000,000,000,000,000,000,000,000,000,000,000,000,000,000,000,000,000,000,000,000,000,000,000,000,000,000,000,000,000,000,000,000,000,000,000,000,000,000,000,000,000,000,000,000,000,000,000,000,000,000,000,000,000,000,000,000,000,000,000,000,000,000,000,000,000,000,000,000,000,000,000,000,000,000,000,000,000,000,000,000,000,000,000,000,000,000,000,000,000,000,000,000,000,000,000,000,000,000,000,000,000,000,000,000,000,000,000,000,000,000,000,000,000,000,000,000,000,000,000,000,000,000,000,000,000,000,000,000,000,000,000,000,000,000,000,000,000,000,000,000,000,000,000,000,000,000,000,000,000,000,000,000,000,000,000,000,000,000,000,000,000,000,000,000,000,000,000,000,000,000,000,000,000,000,000,000,000,000,000,000,000,000,000,000,000,000,000,000,000,000,000,000,000,000,000,000,000,000,000,000,000,000,000,000,000,000,000,000,000,000,000,000,000,000,000,000,000,000,000,000,000,000,000,000,000,000,000,000,000,000,000,000,000,000,000,000,000,000,000,000,000,000,000,000,000,000,000,000,000,000,000,000,000,000,000,000,000,000,000,000,000,000,000,000,000,000,000,000,000,000,000,000,000,000,000,000,000,000,000,000,000,000,000,000,000,000,000,000,000,000,000,000,000,000,000,000,000,000,000,000,000,000,000,000,000,000,000,000,000,000,000,000,000,000,000,000,000,000,000,000,000,000,000,000,000,000,000,000,000,000,000,000,000,000,000,000,000,000,000,000,000,000,000,000,000,000,000,000,000,000,000,000,000,000,000,000,000,000,000,000,000,000,000,000,000,000,000,000,000,000,000,000,000,000,000,000,000,000,000,000,000,000,000,000,000,000,000,000,000,000,000,000,000,000,000,000,000,000,000,000,000,000,000,000,000,000,000,000,000,000,000,000,000,000,000,000,000,000,000,000,000,000,000,000,000,000,000,000,000,000,000,000,000,000,000,000,000,000,000,000,000,000,000,000,000,000,000,000,000,000,000,000,000,000,000,000,000,000,000,000,000,000,000,000,000,000,000,000,000,000,000,000,000,000,000,000,000,000,000,000,000,000,000,000,000,000,000,000,000,000,000,000,000,000,000,000,000,000,000,000,000,000,000,000,000,000,000,000,000,000,000,000,000,000,000,000,000,000,000,000,000,000,000,000,000,000,000,000,000,000,000,000,000,000,000,000,000,000,000,000,000,000,000,000,000,000,000,000,000,000,000,000,000,000,000,000,000,000,000,000,000,000,000,000,000,000,000,000,000,000,000,000,000,000,000,000,000,000,000,000,000,000,000,000,000,000,000,000,000,000,000,000,000,000,000,000,000,000,000,000,000,000,000,000,000,000,000,000,000,000,000,000,000,000,000,000,000,000,000,000,000,000,000,000,000,000,000,000,000,000,000,000,000,000,000,000,000,000,000,000,000,000,000,000,000,000,000,000,000,000,000,000,000,000,000,000,000,000,000,000,000,000,000,000,000,000,000,000,000,000,000,000,000,000,000,000,000,000,000,000,000,000,000,000,000,000,000,000,000,000,000,000,000,000,000,000,000,000,000,000,000,000,000,000,000,000,000,000,000,000,000,000,000,000,000,000,000,000,000,000,000,000,000,000,000,000,'\n",
      " '000,000,000,000,000,000,000,000,000,000,000,000,000,000,000,000,000,000,000,000,000,000,000,000,000,000,000,000,000,000,000,000,000,000,000,000,000,000,000,000,000,000,000,000,000,000,000,000,000,000,000,000,000,000,000,000,000,000,000,000,000,000,000,000,000,000,000,000,000,000,000,000,000,000,000,000,000,000,000,000,000,000,000,000,000,000,000,000,000,000,000,000,000,000,000,000,000,000,000,000,000,000,000,000,000,000,000,000,000,000,000,000,000,000,000,000,000,000,000,000,000,000,000,000,000,000,000,000,000,000,000,000,000,000,000,000,000,000,000,000,000,000,000,000,000,000,000,000,000,000,000,000,000,000,000,000,000,000,000,000,000,000,000,000,000,000,000,000,000,000,000,000,000,000,000,000,000,000,000,000,000,000,000,000,000,000,000,000,000,000,000,000,000,000,000,000,000,000,000,000,000,000,000,000,000,000,000,000,000,000,000,000,000,000,000,000,000,000,000,000,000,000,000,000,000,000,000,000,000,000,000,000,000,000,000,000,000,000,000,000,000,000,000,000,000,000,000,000,000,000,000,000,000,000,000,000,000,000,000,000,000,000,000,000,000,000,000,000,000,000,000,000,000,000,000,000,000,000,000,000,000,000,000,000,000,000,000,000,000,000,000,000,000,000,000,000,000,000,000,000,000,000,000,000,000,000,000,000,000,000,000,000,000,000,000,000,000,000,000,000,000,000,000,000,000,000,000,000,000,000,000,000,000,000,000,000,000,000,000,000,000,000,000,000,000,000,000,000,000,000,000,000,000,000,000,000,000,000,000,000,000,000,000,000,000,000,000,000,000,000,000,000,000,000,000,000,000,000,000,000,000,000,000,000,000,000,000,000,000,000,000,000,000,000,000,000,000,000,000,000,000,000,000,000,000,000,000,000,000,000,000,000,000,000,000,000,000,000,000,000,000,000,000,000,000,000,000,000,000,000,000,000,000,000,000,000,000,000,000,000,000,000,000,000,000,000,000,000,000,000,000,000,000,000,000,000,000,000,000,000,000,000,000,000,000,000,000,000,000,000,000,000,000,000,000,000,000,000,000,000,000,000,000,000,000,000,000,000,000,000,000,000,000,000,000,000,000,000,000,000,000,000,000,000,000,000,000,000,000,000,000,000,000,000,000,000,000,000,000,000,000,000,000,000,000,000,000,000,000,000,000,000,000,000,000,000,000,000,000,000,000,000,000,000,000,000,000,000,000,000,000,000,000,000,000,000,000,000,000,000,000,000,000,000,000,000,000,000,000,000,000,000,000,000,000,000,000,000,000,000,000,000,000,000,000,000,000,000,000,000,000,000,000,000,000,000,000,000,000,000,000,000,000,000,000,000,000,000,000,000,000,000,000,000,000,000,000,000,000,000,000,000,000,000,000,000,000,000,000,000,000,000,000,000,000,000,000,000,000,000,000,000,000,000,000,000,000,000,000,000,000,000,000,000,000,000,000,000,000,000,000,000,000,000,000,000,000,000,000,000,000,000,000,000,000,000,000,000,000,000,000,000,000,000,000,000,000,000,000,000,000,000,000,000,000,000,000,000,000,000,000,000,000,000,000,000,000,000,000,000,000,000,000,000,000,000,000,000,000,000,000,000,000,000,000,000,000,000,000,000,000,000,000,000,000,000,000,000,000,000,000,000,000,000,000,000,000,000,000,000,000,000,000,000,000,000,000,000,000,000,000,000,000,000,000,000,000,000,000,000,000,000,000,000,000,000,000,000,000,000,000,000,000,000,000,000,000,000,000,000,000,000,000,000,000,000,000,000,000,000,000,000,000,000,000,000,000,000,000,000,000,000,000,000,000,000,000,000,000,000,000,000,000,000,000,000,000,000,000,000,000,000,000,000,000,000,000,000,000,000,000,000,000,000,000,000,000,000,000,000,000,000,000,000,000,000,000,000,000,000,000,000,000,000,000,000,000,000,000,000,000,000,000,000,000,000,000,000,000,000,000,000,000,000,000,000,000,000,000,000,000,000,000,000,000,000,000,000,000,000,000,000,000,000,000,000,000,000,000,000,000,000,000,000,000,000,000,000,000,000,000,000,000,000,000,000,000,000,000,000,000,000,000,000,000,000,000,000,000,000,000,000,000,000,000,000,000,000,000,000,000,000,000,000,000,000,000,000,000,000,000,000,000,000,000,000,000,000,000,000,000,000,000,000,000,000,000,000,000,000,000,000,000,000,000,000,000,000,000,000,000,000,000,000,000,000,000,000,000,000,000,000,000,000,000,000,000,000,000,000,000,000,000,000,000,000,000,000,000,000,000,000,000,000,'\n",
      " '000,000,000,000,000,000,000,000,000,000,000,000,000,000,000,000,000,000,000,000,000,000,000,000,000,000,000,000,000,000,000,000,000,000,000,000,000,000,000,000,000,000,000,000,000,000,000,000,000,000,000,000,000,000,000,000,000,000,000,000,000,000,000,000,000,000,000,000,000,000,000,000,000,000,000,000,000,000,000,000,000,000,000,000,000,000,000,000,000,000,000,000,000,000,000,000,000,000,000,000,000,000,000,000,000,000,000,000,000,000,000,000,000,000,000,000,000,000,000,000,000,000,000,000,000,000,000,000,000,000,000,000,000,000,000,000,000,000,000,000,000,000,000,000,000,000,000,000,000,000,000,000,000,000,000,000,000,000,000,000,000,000,000,000,000,000,000,000,000,000,000,000,000,000,000,000,000,000,000,000,000,000,000,000,000,000,000,000,000,000,000,000,000,000,000,000,000,000,000,000,000,000,000,000,000,000,000,000,000,000,000,000,000,000,000,000,000,000,000,000,000,000,000,000,000,000,000,000,000,000,000,000,000,000,000,000,000,000,000,000,000,000,000,000,000,000,000,000,000,000,000,000,000,000,000,000,000,000,000,000,000,000,000,000,000,000,000,000,000,000,000,000,000,000,000,000,000,000,000,000,000,000,000,000,000,000,000,000,000,000,000,000,000,000,000,000,000,000,000,000,000,000,000,000,000,000,000,000,000,000,000,000,000,000,000,000,000,000,000,000,000,000,000,000,000,000,000,000,000,000,000,000,000,000,000,000,000,000,000,000,000,000,000,000,000,000,000,000,000,000,000,000,000,000,000,000,000,000,000,000,000,000,000,000,000,000,000,000,000,000,000,000,000,000,000,000,000,000,000,000,000,000,000,000,000,000,000,000,000,000,000,000,000,000,000,000,000,000,000,000,000,000,000,000,000,000,000,000,000,000,000,000,000,000,000,000,000,000,000,000,000,000,000,000,000,000,000,000,000,000,000,000,000,000,000,000,000,000,000,000,000,000,000,000,000,000,000,000,000,000,000,000,000,000,000,000,000,000,000,000,000,000,000,000,000,000,000,000,000,000,000,000,000,000,000,000,000,000,000,000,000,000,000,000,000,000,000,000,000,000,000,000,000,000,000,000,000,000,000,000,000,000,000,000,000,000,000,000,000,000,000,000,000,000,000,000,000,000,000,000,000,000,000,000,000,000,000,000,000,000,000,000,000,000,000,000,000,000,000,000,000,000,000,000,000,000,000,000,000,000,000,000,000,000,000,000,000,000,000,000,000,000,000,000,000,000,000,000,000,000,000,000,000,000,000,000,000,000,000,000,000,000,000,000,000,000,000,000,000,000,000,000,000,000,000,000,000,000,000,000,000,000,000,000,000,000,000,000,000,000,000,000,000,000,000,000,000,000,000,000,000,000,000,000,000,000,000,000,000,000,000,000,000,000,000,000,000,000,000,000,000,000,000,000,000,000,000,000,000,000,000,000,000,000,000,000,000,000,000,000,000,000,000,000,000,000,000,000,000,000,000,000,000,000,000,000,000,000,000,000,000,000,000,000,000,000,000,000,000,000,000,000,000,000,000,000,000,000,000,000,000,000,000,000,000,000,000,000,000,000,000,000,000,000,000,000,000,000,000,000,000,000,000,000,000,000,000,000,000,000,000,000,000,000,000,000,000,000,000,000,000,000,000,000,000,000,000,000,000,000,000,000,000,000,000,000,000,000,000,000,000,000,000,000,000,000,000,000,000,000,000,000,000,000,000,000,000,000,000,000,000,000,000,000,000,000,000,000,000,000,000,000,000,000,000,000,000,000,000,000,000,000,000,000,000,000,000,000,000,000,000,000,000,000,000,000,000,000,000,000,000,000,000,000,000,000,000,000,000,000,000,000,000,000,000,000,000,000,000,000,000,000,000,000,000,000,000,000,000,000,000,000,000,000,000,000,000,000,000,000,000,000,000,000,000,000,000,000,000,000,000,000,000,000,000,000,000,000,000,000,000,000,000,000,000,000,000,000,000,000,000,000,000,000,000,000,000,000,000,000,000,000,000,000,000,000,000,000,000,000,000,000,000,000,000,000,000,000,000,000,000,000,000,000,000,000,000,000,000,000,000,000,000,000,000,000,000,000,000,000,000,000,000,000,000,000,000,000,000,000,000,000,000,000,000,000,000,000,000,000,000,000,000,000,000,000,000,000,000,000,000,000,000,000,000,000,000,000,000,000,000,000,000,000,000,000,000,000,000,000,000,000,000,000,000,000,000,000,000,000,000,000,000,000,000,000,000,000,000,000,000,000,000,000,000,000,000,000,000,000,000,000,000,000,']\n"
     ]
    }
   ],
   "source": [
    "print_df_random_n_rows(df, n=5)"
   ]
  },
  {
   "cell_type": "code",
   "execution_count": 54,
   "id": "88b92abf",
   "metadata": {},
   "outputs": [
    {
     "name": "stdout",
     "output_type": "stream",
     "text": [
      " - Column 2 ( rainfall_accumulated_32bit ):\n",
      "      [56.4900016784668, 56.52000045776367, 56.529998779296875, 56.54999923706055, 56.56999969482422, 56.58000183105469, 56.59000015258789, 56.599998474121094, 56.61000061035156, 56.619998931884766, 56.630001068115234, 56.63999938964844, 56.650001525878906, 56.65999984741211, 56.66999816894531, 56.68000030517578, 56.70000076293945, 56.709999084472656]\n"
     ]
    }
   ],
   "source": [
    "print_df_columns_unique_values(df, column_indices=2, column_names=True)"
   ]
  },
  {
   "cell_type": "markdown",
   "id": "258c7667",
   "metadata": {},
   "source": [
    "**11. Define the sanitizer function**\n",
    "\n",
    "This function will be used in the reader. It contains the list of columns we have to drop, as defined previously. "
   ]
  },
  {
   "cell_type": "code",
   "execution_count": 61,
   "id": "627da456",
   "metadata": {},
   "outputs": [],
   "source": [
    "def df_sanitizer_fun(df, lazy=False):\n",
    "    # Import dask or pandas\n",
    "    if lazy:\n",
    "        import dask.dataframe as dd\n",
    "    else:\n",
    "        import pandas as dd\n",
    "\n",
    "\n",
    "    # - Drop datalogger columns\n",
    "    columns_to_drop = [\"unknown1\", \"unknown2\", \"unknown3\",\"unknown4\",'unknown5','unknown6']\n",
    "\n",
    "    df = df.drop(columns=columns_to_drop)\n",
    "    \n",
    "    # - Convert time column to datetime format\n",
    "    df[\"time\"] = dd.to_datetime(df[\"time\"], format=\"%m-%d-%Y %H:%M:%S\")  \n",
    "    \n",
    "    return df"
   ]
  },
  {
   "cell_type": "markdown",
   "id": "ae59e57a",
   "metadata": {},
   "source": [
    "> 🚨 The `df_sanitizer_fun()` function will be transferted to the reader at the end of this notebook. "
   ]
  },
  {
   "cell_type": "markdown",
   "id": "8fd19a71",
   "metadata": {},
   "source": [
    "**12. Try calling the reader function, as it will be called in reader script**\n",
    "\n",
    "* You may try with increasing number of files (update file_list)\n",
    "* Try reading with pandas (lazy=False), then with dask (lazy=True)\n"
   ]
  },
  {
   "cell_type": "code",
   "execution_count": 60,
   "id": "844c1cbe",
   "metadata": {},
   "outputs": [
    {
     "name": "stdout",
     "output_type": "stream",
     "text": [
      " -  - 0 of 2 have been skipped.\n",
      " -  - Concatenation of dataframes started.\n",
      " -  - Concatenation of dataframes has finished.\n"
     ]
    }
   ],
   "source": [
    "lazy = False \n",
    "subset_file_list = file_list[:1]\n",
    "\n",
    "df = read_L0A_raw_file_list(\n",
    "    file_list=subset_file_list,\n",
    "    column_names=column_names,\n",
    "    reader_kwargs=reader_kwargs,\n",
    "    sensor_name=sensor_name,\n",
    "    verbose=verbose,\n",
    "    df_sanitizer_fun=df_sanitizer_fun,\n",
    "    lazy=lazy,\n",
    ")"
   ]
  },
  {
   "cell_type": "markdown",
   "id": "5fd9fb56",
   "metadata": {},
   "source": [
    "The function `read_L0A_raw_file_list` takes as argument :\n",
    "* `file_list` : list of file based on data folder analysis\n",
    "* `column_names` : the list of column, defined previously  \n",
    "* `reader_kwargs` : dictionary to data loading  into the dataframe, defined previously \n",
    "* `sensor_name` : taken from the config file \n",
    "* `df_sanitizer_fun`: the function to clean up the data frame, defined previously \n",
    "\n",
    "All these arguments are defined either in the data folder, or earlier in the code. It is now time to create the reader !"
   ]
  },
  {
   "cell_type": "markdown",
   "id": "4edb86fe",
   "metadata": {},
   "source": [
    "## Step 3 : Create the reader"
   ]
  },
  {
   "cell_type": "markdown",
   "id": "26774ee9",
   "metadata": {},
   "source": [
    "We have now all the elements to start creating the new reader. All the modifications that we did in this notebook must be now transcribed into a reader file.\n",
    "\n",
    "1. Copy and paste the `disdrodb\\L0\\readers\\parser_template.py` into the folder `disdrodb\\L0\\readers\\TUTORIAL`\n",
    "\n",
    "2. Rename the copied file `parser_TUTORIAL.py`\n",
    "\n",
    "3. Add the root folder as path variable : \n",
    "   \n",
    "   Before :\n",
    "\n",
    "    ``` python\n",
    "\n",
    "        import click\n",
    "        from disdrodb.L0 import run_L0\n",
    "\n",
    "    ```\n",
    "    After : \n",
    "\n",
    "    ``` python\n",
    "        import os\n",
    "        import sys\n",
    "\n",
    "        # Add project root folder into sys path\n",
    "        root_path = os.path.dirname(os.path.dirname(os.path.dirname(os.getcwd())))\n",
    "        sys.path.insert(0,root_path)\n",
    "        import click\n",
    "        from disdrodb.L0.L0_processing import run_L0\n",
    "    ```\n",
    "\n",
    "4. Define the columns names : \n",
    "\n",
    "   Before :\n",
    "\n",
    "    ``` python\n",
    "\n",
    "        column_names = []\n",
    "    ```\n",
    "    After : \n",
    "\n",
    "    ``` python\n",
    "        column_names = [\n",
    "            \"unknown1\",\n",
    "            \"unknown2\",\n",
    "            \"unknown3\",\n",
    "            \"time\",\n",
    "            \"unknown4\",\n",
    "            \"unknown5\",\n",
    "            \"rainfall_rate_32bit\",\n",
    "            \"rainfall_accumulated_32bit\",\n",
    "            \"weather_code_synop_4680\",\n",
    "            \"weather_code_synop_4677\",\n",
    "            \"reflectivity_32bit\",\n",
    "            \"mor_visibility\",\n",
    "            \"laser_amplitude\",\n",
    "            \"number_particles\",\n",
    "            \"sensor_temperature\",\n",
    "            \"sensor_heating_current\",\n",
    "            \"sensor_battery_voltage\",\n",
    "            \"sensor_status\",\n",
    "            \"rainfall_amount_absolute_32bit\",\n",
    "            \"error_code\",\n",
    "            \"raw_drop_concentration\",\n",
    "            \"raw_drop_average_velocity\",\n",
    "            \"raw_drop_number\",\n",
    "            \"unknown6\",\n",
    "        ]\n",
    "    ```\n",
    "\n",
    "\n",
    "5. Add raw data loading parameter\n",
    "\n",
    "    Before :\n",
    "\n",
    "    ``` python\n",
    "\n",
    "        reader_kwargs[\"blocksize\"] = None # \"50MB\"\n",
    "\n",
    "    ```\n",
    "    After : \n",
    "\n",
    "    ``` python\n",
    "        reader_kwargs[\"blocksize\"] = None # \"50MB\"\n",
    "        reader_kwargs['header'] = None\n",
    "    ```\n",
    "\n",
    "6. Modify the `df_sanitizer_fun()` function \n",
    "\n",
    "   Before :\n",
    "\n",
    "    ``` python\n",
    "\n",
    "        def df_sanitizer_fun(df, lazy=False):\n",
    "            # Import dask or pandas\n",
    "            if lazy:\n",
    "                    import dask.dataframe as dd\n",
    "            else:\n",
    "                    import pandas as dd\n",
    "\n",
    "            # - Drop datalogger columns\n",
    "            columns_to_drop = ['id', 'datalogger_temperature', 'datalogger_voltage', 'datalogger_error']\n",
    "            df = df.drop(columns=columns_to_drop)\n",
    "\n",
    "            # - Drop latitude and longitude\n",
    "            # --> Latitude and longitude is specified in the the metadata.yaml\n",
    "            df = df.drop(columns=['latitude', 'longitude'])\n",
    "\n",
    "            # - Convert time column to datetime with resolution in seconds\n",
    "            df['time'] = dd.to_datetime(df['time'], format='%d-%m-%Y %H:%M:%S')\n",
    "\n",
    "            return df\n",
    "    ```\n",
    "    \n",
    "    After : \n",
    "\n",
    "    ``` python\n",
    "        def df_sanitizer_fun(df, lazy=False):\n",
    "            # Import dask or pandas\n",
    "            if lazy:\n",
    "                import dask.dataframe as dd\n",
    "            else:\n",
    "                import pandas as dd\n",
    "\n",
    "            # - Drop datalogger columns\n",
    "            columns_to_drop = [\"unknown1\", \"unknown2\", \"unknown3\",\"unknown4\",'unknown5','unknown6']\n",
    "\n",
    "            df = df.drop(columns=columns_to_drop)\n",
    "\n",
    "            # - Convert time column to datetime format\n",
    "            df[\"time\"] = dd.to_datetime(df[\"time\"], format=\"%m-%d-%Y %H:%M:%S\")  \n",
    "\n",
    "            return df\n",
    "    ```\n",
    " \n",
    " \n",
    " 7. Run the script\n",
    " \n",
    "     From the root folder, just run (commands to be updated):\n",
    "     Windows:\n",
    "     ``` batch\n",
    "     python .\\disdrodb\\L0\\readers\\TUTORIAL\\parser_TUTORIAL.py  <data_folder>\\DISDRODB\\Raw\\INSTITUTION_or_COUNTRY\\CAMPAIGN\\ <data_folder>\\DISDRODB\\Processed\\INSTITUTION_or_COUNTRY\\CAMPAIGN\\ -l0b True -f True -v True -d False\n",
    "     ```\n",
    "     \n",
    "     Mac/Linux\n",
    "      ``` batch\n",
    "     python disdrodb/L0/readers/TUTORIAL/parser_TUTORIAL.py  <data_folder>/DISDRODB/Raw/INSTITUTION_or_COUNTRY/CAMPAIGN/ <data_folder>/DISDRODB/Processed/INSTITUTION_or_COUNTRY/CAMPAIGN/ -l0b True -f True -v True -d False\n",
    "     ```\n",
    "     python disdrodb/L0/readers/TUTORIAL/parser_TUTORIAL_correction.py  data/DISDRODB/Raw/INSTITUTION_or_COUNTRY/CAMPAIGN/ data/DISDRODB/Processed/INSTITUTION_or_COUNTRY/CAMPAIGN/ -l0b True -f True -v True -d False\n",
    " \n",
    "    You need to adapt the <data_folder> parameter to your local data folder.\n",
    "\n",
    "    Have a look here if you want to customize this command. (TODO link still to update)\n",
    "\n",
    " \n",
    "8. Check if the script has correctly run\n",
    "\n",
    "    The output folder should be as follow :\n",
    "    \n",
    "    ```\n",
    "    📁 DISDRODB/\n",
    "    ├── 📁 Processed/\n",
    "       ├── 📁 INSTITUTION\\_or\\_COUNTRY/\n",
    "          ├── 📁 CAMPAIGN/\n",
    "              ├── 📁 info\n",
    "                  ├── 📜 ID\\_station\\_1.yml\n",
    "                  ├── 📜 ID\\_station\\_2.yml\n",
    "              ├── 📁 L0A\n",
    "                  ├── 📁 ID\\_station\\_1/\n",
    "                     ├── 📜 \\_sID\\_station\\_1.parquet\n",
    "                  ├── 📁 ID\\_station\\_2\n",
    "                     ├── 📜 \\_sID\\_station\\_2.parquet\n",
    "              ├── 📁 L0B\n",
    "                  ├── 📁 ID\\_station\\_1/\n",
    "                     ├── 📜 \\_sID\\_station\\_1.nc\n",
    "                  ├── 📁 ID\\_station\\_2/\n",
    "                     ├── 📜 \\_sID\\_station\\_2.nc\n",
    "              ├── 📁 logs\n",
    "                  ├── 📜 \\<date\\>\\_LO\\_parser.log\n",
    "              ├── 📁 metadata\n",
    "                  ├── 📜 ID\\_station\\_1.yml\n",
    "                  ├── 📜 ID\\_station\\_2.yml\n",
    "\n",
    "    ```\n",
    "\n",
    "Well done 👋 you have created a new reader. You can now :\n",
    "\n",
    "-   Create your own reader based on your data.\n",
    "-   Run this reader over your entire dataset to generate L0 files.\n",
    "-   Publish this reader to the github main repository to enrich the\n",
    "    DISDRODB project ! Have a look at the [contributors\n",
    "    guidelines](https://disdrodb.readthedocs.io/en/latest/contributors_guidelines.html)\n",
    "\n",
    "    "
   ]
  }
 ],
 "metadata": {
  "kernelspec": {
   "display_name": "Python 3 (ipykernel)",
   "language": "python",
   "name": "python3"
  },
  "language_info": {
   "codemirror_mode": {
    "name": "ipython",
    "version": 3
   },
   "file_extension": ".py",
   "mimetype": "text/x-python",
   "name": "python",
   "nbconvert_exporter": "python",
   "pygments_lexer": "ipython3",
   "version": "3.8.10"
  },
  "vscode": {
   "interpreter": {
    "hash": "7af06936dced0ca0985876616c7f23c6ae1c29b1b52c624e580370d48ceddb58"
   }
  }
 },
 "nbformat": 4,
 "nbformat_minor": 5
}
